{
  "cells": [
    {
      "cell_type": "markdown",
      "source": [
        "# Automated ML"
      ],
      "metadata": {}
    },
    {
      "cell_type": "code",
      "source": [
        "# import all the dependencies\n",
        "from azureml.core.compute import ComputeTarget, AmlCompute\n",
        "from azureml.core.compute_target import ComputeTargetException\n",
        "from azureml.core import Workspace, Experiment, Dataset\n",
        "from azureml.data.dataset_factory import TabularDatasetFactory\n",
        "from azureml.train.automl import AutoMLConfig\n",
        "from azureml.widgets import RunDetails\n",
        "from azureml.train.automl.utilities import get_primary_metrics\n",
        "from azureml.core.webservice import AciWebservice, LocalWebservice\n",
        "from azureml.core import Environment\n",
        "from azureml.core.model import InferenceConfig\n",
        "from azureml.core.model import Model\n",
        "import requests\n",
        "import json\n",
        "\n",
        "ws = Workspace.from_config()"
      ],
      "outputs": [],
      "execution_count": 1,
      "metadata": {
        "gather": {
          "logged": 1612482138035
        }
      }
    },
    {
      "cell_type": "code",
      "source": [
        "# Create compute cluster\n",
        "# Use vm_size = \"Standard_D2_V2\" in your provisioning configuration.\n",
        "# max_nodes should be no greater than 4.\n",
        "# source: https://docs.microsoft.com/en-us/python/api/azureml-core/azureml.core.compute.amlcompute(class)?view=azure-ml-py\n",
        "\n",
        "cpu_cluster_name = \"cpu-cluster\"\n",
        "\n",
        "# Verify that cluster does not exist already\n",
        "try:\n",
        "    cpu_cluster = ComputeTarget(workspace=ws, name=cpu_cluster_name)\n",
        "    print('Found existing cluster, use it.')\n",
        "except ComputeTargetException:\n",
        "    compute_config = AmlCompute.provisioning_configuration(vm_size='STANDARD_D2_V2',\n",
        "                                                           max_nodes=4)\n",
        "    cpu_cluster = ComputeTarget.create(ws, cpu_cluster_name, compute_config)\n",
        "\n",
        "cpu_cluster.wait_for_completion(show_output=True)"
      ],
      "outputs": [
        {
          "output_type": "stream",
          "name": "stdout",
          "text": [
            "Creating\n",
            "Succeeded\n",
            "AmlCompute wait for completion finished\n",
            "\n",
            "Minimum number of nodes requested have been provisioned\n"
          ]
        }
      ],
      "execution_count": 2,
      "metadata": {
        "gather": {
          "logged": 1612482171605
        }
      }
    },
    {
      "cell_type": "markdown",
      "source": [
        "## Dataset\n",
        "\n",
        "### Overview\n",
        "\n",
        "This project uses the data from a DrivenData competition - [Pump it Up: Data Mining the Water Table](https://www.drivendata.org/competitions/7/pump-it-up-data-mining-the-water-table/).\n",
        "\n",
        "The training data is devided into two files, with the target variable (labels) and the other variables (values). The target variable describe the functioning status of each pump (*functional*, *functional need repair* and *non functional*). Descriptive variables inlude waterpoint location, its founder, water quality and quantity, waterpoint type, etc.\n",
        "\n",
        "As one need to be logged in to DrivenData in order to access the data, it cannot be downloaded via direct links and was stored as .csv files in the *data* folder. The original data stored to the Azure datastore, merged into a single data set and registered as a dataset."
      ],
      "metadata": {}
    },
    {
      "cell_type": "code",
      "source": [
        "# #local paths to train data\n",
        "# path_labels = \"data/train_labels.csv\"\n",
        "# path_values = \"data/train_values.csv\"\n",
        "\n",
        "# # get the datastore to upload prepared data\n",
        "# datastore = ws.get_default_datastore()\n",
        "\n",
        "# # upload the local file from src_dir to the target_path in datastore\n",
        "# datastore.upload(src_dir='data', target_path='data', overwrite=True)\n",
        "\n",
        "# # create datasets referencing the cloud location\n",
        "# ds_labels = Dataset.Tabular.from_delimited_files(path = [(datastore, (path_labels))])\n",
        "# ds_values = Dataset.Tabular.from_delimited_files(path = [(datastore, (path_values))])"
      ],
      "outputs": [],
      "execution_count": 3,
      "metadata": {
        "gather": {
          "logged": 1612482305836
        }
      }
    },
    {
      "cell_type": "code",
      "source": [
        "# Try to load the dataset from the Workspace. Otherwise, create it from the file\r\n",
        "found = False\r\n",
        "key = \"Winery Dataset\"\r\n",
        "description_text = \"Wine Dataset for Udacity Nanodegree\"\r\n",
        "\r\n",
        "if key in ws.datasets.keys(): \r\n",
        "        found = True\r\n",
        "        dataset = ws.datasets[key] \r\n",
        "        print(\"Registered dataset found in the workspace.\")\r\n",
        "\r\n",
        "if not found:\r\n",
        "        # Register AML Dataset in Workspace\r\n",
        "        dataset_url = \"https://raw.githubusercontent.com/alihussainia/Azure3/main/wine.csv\"\r\n",
        "        ds = TabularDatasetFactory.from_delimited_files(path = dataset_url)\r\n",
        "        dataset = ds.register(workspace=ws,\r\n",
        "                              name=key,\r\n",
        "                              description=description_text)\r\n",
        "        print(\"Dataset registered in workspace.\")"
      ],
      "outputs": [
        {
          "output_type": "stream",
          "name": "stdout",
          "text": [
            "Registered dataset found in the workspace.\n"
          ]
        }
      ],
      "execution_count": 4,
      "metadata": {
        "collapsed": true,
        "jupyter": {
          "source_hidden": false,
          "outputs_hidden": false
        },
        "nteract": {
          "transient": {
            "deleting": false
          }
        },
        "gather": {
          "logged": 1612482339679
        }
      }
    },
    {
      "cell_type": "code",
      "source": [
        "df = dataset.to_pandas_dataframe()\r\n",
        "df.head()"
      ],
      "outputs": [
        {
          "output_type": "execute_result",
          "execution_count": 5,
          "data": {
            "text/plain": "   name  alcohol  malicAcid   ash  ashalcalinity  magnesium  totalPhenols  \\\n0     1    14.23       1.71  2.43           15.6        127          2.80   \n1     1    13.16       2.36  2.67           18.6        101          2.80   \n2     1    14.37       1.95  2.50           16.8        113          3.85   \n3     1    13.24       2.59  2.87           21.0        118          2.80   \n4     1    14.20       1.76  2.45           15.2        112          3.27   \n\n   flavanoids  nonFlavanoidPhenols  proanthocyanins  colorIntensity   hue  \\\n0        3.06                 0.28             2.29            5.64  1.04   \n1        3.24                 0.30             2.81            5.68  1.03   \n2        3.49                 0.24             2.18            7.80  0.86   \n3        2.69                 0.39             1.82            4.32  1.04   \n4        3.39                 0.34             1.97            6.75  1.05   \n\n   od280_od315  proline  \n0         3.92     1065  \n1         3.17     1185  \n2         3.45     1480  \n3         2.93      735  \n4         2.85     1450  ",
            "text/html": "<div>\n<style scoped>\n    .dataframe tbody tr th:only-of-type {\n        vertical-align: middle;\n    }\n\n    .dataframe tbody tr th {\n        vertical-align: top;\n    }\n\n    .dataframe thead th {\n        text-align: right;\n    }\n</style>\n<table border=\"1\" class=\"dataframe\">\n  <thead>\n    <tr style=\"text-align: right;\">\n      <th></th>\n      <th>name</th>\n      <th>alcohol</th>\n      <th>malicAcid</th>\n      <th>ash</th>\n      <th>ashalcalinity</th>\n      <th>magnesium</th>\n      <th>totalPhenols</th>\n      <th>flavanoids</th>\n      <th>nonFlavanoidPhenols</th>\n      <th>proanthocyanins</th>\n      <th>colorIntensity</th>\n      <th>hue</th>\n      <th>od280_od315</th>\n      <th>proline</th>\n    </tr>\n  </thead>\n  <tbody>\n    <tr>\n      <th>0</th>\n      <td>1</td>\n      <td>14.23</td>\n      <td>1.71</td>\n      <td>2.43</td>\n      <td>15.6</td>\n      <td>127</td>\n      <td>2.80</td>\n      <td>3.06</td>\n      <td>0.28</td>\n      <td>2.29</td>\n      <td>5.64</td>\n      <td>1.04</td>\n      <td>3.92</td>\n      <td>1065</td>\n    </tr>\n    <tr>\n      <th>1</th>\n      <td>1</td>\n      <td>13.16</td>\n      <td>2.36</td>\n      <td>2.67</td>\n      <td>18.6</td>\n      <td>101</td>\n      <td>2.80</td>\n      <td>3.24</td>\n      <td>0.30</td>\n      <td>2.81</td>\n      <td>5.68</td>\n      <td>1.03</td>\n      <td>3.17</td>\n      <td>1185</td>\n    </tr>\n    <tr>\n      <th>2</th>\n      <td>1</td>\n      <td>14.37</td>\n      <td>1.95</td>\n      <td>2.50</td>\n      <td>16.8</td>\n      <td>113</td>\n      <td>3.85</td>\n      <td>3.49</td>\n      <td>0.24</td>\n      <td>2.18</td>\n      <td>7.80</td>\n      <td>0.86</td>\n      <td>3.45</td>\n      <td>1480</td>\n    </tr>\n    <tr>\n      <th>3</th>\n      <td>1</td>\n      <td>13.24</td>\n      <td>2.59</td>\n      <td>2.87</td>\n      <td>21.0</td>\n      <td>118</td>\n      <td>2.80</td>\n      <td>2.69</td>\n      <td>0.39</td>\n      <td>1.82</td>\n      <td>4.32</td>\n      <td>1.04</td>\n      <td>2.93</td>\n      <td>735</td>\n    </tr>\n    <tr>\n      <th>4</th>\n      <td>1</td>\n      <td>14.20</td>\n      <td>1.76</td>\n      <td>2.45</td>\n      <td>15.2</td>\n      <td>112</td>\n      <td>3.27</td>\n      <td>3.39</td>\n      <td>0.34</td>\n      <td>1.97</td>\n      <td>6.75</td>\n      <td>1.05</td>\n      <td>2.85</td>\n      <td>1450</td>\n    </tr>\n  </tbody>\n</table>\n</div>"
          },
          "metadata": {}
        }
      ],
      "execution_count": 5,
      "metadata": {
        "gather": {
          "logged": 1612482370319
        }
      }
    },
    {
      "cell_type": "code",
      "source": [
        "df.info()"
      ],
      "outputs": [
        {
          "output_type": "stream",
          "name": "stdout",
          "text": [
            "<class 'pandas.core.frame.DataFrame'>\n",
            "RangeIndex: 177 entries, 0 to 176\n",
            "Data columns (total 14 columns):\n",
            "name                   177 non-null int64\n",
            "alcohol                177 non-null float64\n",
            "malicAcid              177 non-null float64\n",
            "ash                    177 non-null float64\n",
            "ashalcalinity          177 non-null float64\n",
            "magnesium              177 non-null int64\n",
            "totalPhenols           177 non-null float64\n",
            "flavanoids             177 non-null float64\n",
            "nonFlavanoidPhenols    177 non-null float64\n",
            "proanthocyanins        177 non-null float64\n",
            "colorIntensity         177 non-null float64\n",
            "hue                    177 non-null float64\n",
            "od280_od315            177 non-null float64\n",
            "proline                177 non-null int64\n",
            "dtypes: float64(11), int64(3)\n",
            "memory usage: 19.5 KB\n"
          ]
        }
      ],
      "execution_count": 6,
      "metadata": {
        "gather": {
          "logged": 1612482425119
        }
      }
    },
    {
      "cell_type": "markdown",
      "source": [
        "Basic exploratory data analysis (EDA) was completed by profiling the data in Azure. As a result, some variables are excluded. Deeper EDA and consequent data wrangling are highly recommended, but omitted for now, as the goal of the project is different."
      ],
      "metadata": {}
    },
    {
      "cell_type": "code",
      "source": [
        "# create experiment\n",
        "experiment_name = 'wine'\n",
        "experiment = Experiment(ws, experiment_name)"
      ],
      "outputs": [],
      "execution_count": 10,
      "metadata": {
        "collapsed": false,
        "gather": {
          "logged": 1612482476179
        },
        "jupyter": {
          "outputs_hidden": false,
          "source_hidden": false
        },
        "nteract": {
          "transient": {
            "deleting": false
          }
        }
      }
    },
    {
      "cell_type": "markdown",
      "source": [
        "## AutoML Configuration\n",
        "\n",
        "The problem at hand is a multiclass classification. The fact of unbalanced dataset suggest against the often used accuracy metric. Among the available performance metrics in AutoML classification (see below), the weighted AUC was chosen.\n",
        "\n",
        "Choice of the cloud compute target allows to profit from higher compute capabilities. Enabling early stopping saves computation time for prospectless children runs."
      ],
      "metadata": {}
    },
    {
      "cell_type": "code",
      "source": [
        "# establish a list of available metrics\n",
        "get_primary_metrics('classification')"
      ],
      "outputs": [
        {
          "output_type": "execute_result",
          "execution_count": 11,
          "data": {
            "text/plain": "['average_precision_score_weighted',\n 'norm_macro_recall',\n 'AUC_weighted',\n 'accuracy',\n 'precision_score_weighted']"
          },
          "metadata": {}
        }
      ],
      "execution_count": 11,
      "metadata": {
        "gather": {
          "logged": 1612482484872
        }
      }
    },
    {
      "cell_type": "code",
      "source": [
        "# source: https://docs.microsoft.com/en-us/azure/machine-learning/tutorial-auto-train-models\n",
        "# automl settings \n",
        "automl_settings = {\n",
        "       \"n_cross_validations\": 3,\n",
        "       \"primary_metric\": 'AUC_weighted',\n",
        "       \"enable_early_stopping\": True,\n",
        "       \"experiment_timeout_hours\": 1.0,\n",
        "       \"max_concurrent_iterations\": 4,\n",
        "       \"max_cores_per_iteration\": -1,\n",
        "       \"verbosity\": logging.INFO,\n",
        "   }\n",
        "\n",
        "# automl config \n",
        "automl_config = AutoMLConfig(task = 'classification',\n",
        "                               compute_target = cpu_cluster,\n",
        "                               training_data = dataset,\n",
        "                               label_column_name = \"name\",\n",
        "                               **automl_settings\n",
        "                            )"
      ],
      "outputs": [],
      "execution_count": 15,
      "metadata": {
        "collapsed": false,
        "gather": {
          "logged": 1612482953178
        },
        "jupyter": {
          "outputs_hidden": false,
          "source_hidden": false
        },
        "nteract": {
          "transient": {
            "deleting": false
          }
        }
      }
    },
    {
      "cell_type": "code",
      "source": [
        "# Submit your experiment\n",
        "remote_run = experiment.submit(automl_config)"
      ],
      "outputs": [
        {
          "output_type": "stream",
          "name": "stdout",
          "text": [
            "Running on remote.\n"
          ]
        }
      ],
      "execution_count": 16,
      "metadata": {
        "collapsed": false,
        "gather": {
          "logged": 1612482958881
        },
        "jupyter": {
          "outputs_hidden": false,
          "source_hidden": false
        },
        "nteract": {
          "transient": {
            "deleting": false
          }
        }
      }
    },
    {
      "cell_type": "markdown",
      "source": [
        "## Run Details"
      ],
      "metadata": {}
    },
    {
      "cell_type": "code",
      "source": [
        "RunDetails(remote_run).show()"
      ],
      "outputs": [
        {
          "output_type": "display_data",
          "data": {
            "text/plain": "_AutoMLWidget(widget_settings={'childWidgetDisplay': 'popup', 'send_telemetry': False, 'log_level': 'INFO', 's…",
            "application/vnd.jupyter.widget-view+json": {
              "version_major": 2,
              "version_minor": 0,
              "model_id": "f78b50a59dfd4318b2e99e60fa090d88"
            }
          },
          "metadata": {}
        },
        {
          "output_type": "display_data",
          "data": {
            "application/aml.mini.widget.v1": "{\"status\": \"Completed\", \"workbench_run_details_uri\": \"https://ml.azure.com/experiments/wine/runs/AutoML_a5282e99-6962-4b8a-9682-aa3257bcac67?wsid=/subscriptions/610d6e37-4747-4a20-80eb-3aad70a55f43/resourcegroups/aml-quickstarts-137280/workspaces/quick-starts-ws-137280\", \"run_id\": \"AutoML_a5282e99-6962-4b8a-9682-aa3257bcac67\", \"run_properties\": {\"run_id\": \"AutoML_a5282e99-6962-4b8a-9682-aa3257bcac67\", \"created_utc\": \"2021-02-04T23:55:58.039064Z\", \"properties\": {\"num_iterations\": \"1000\", \"training_type\": \"TrainFull\", \"acquisition_function\": \"EI\", \"primary_metric\": \"AUC_weighted\", \"train_split\": \"0\", \"acquisition_parameter\": \"0\", \"num_cross_validation\": \"3\", \"target\": \"cpu-cluster\", \"AMLSettingsJsonString\": \"{\\\"path\\\":null,\\\"name\\\":\\\"wine\\\",\\\"subscription_id\\\":\\\"610d6e37-4747-4a20-80eb-3aad70a55f43\\\",\\\"resource_group\\\":\\\"aml-quickstarts-137280\\\",\\\"workspace_name\\\":\\\"quick-starts-ws-137280\\\",\\\"region\\\":\\\"southcentralus\\\",\\\"compute_target\\\":\\\"cpu-cluster\\\",\\\"spark_service\\\":null,\\\"azure_service\\\":\\\"remote\\\",\\\"many_models\\\":false,\\\"pipeline_fetch_max_batch_size\\\":1,\\\"iterations\\\":1000,\\\"primary_metric\\\":\\\"AUC_weighted\\\",\\\"task_type\\\":\\\"classification\\\",\\\"data_script\\\":null,\\\"validation_size\\\":0.0,\\\"n_cross_validations\\\":3,\\\"y_min\\\":null,\\\"y_max\\\":null,\\\"num_classes\\\":null,\\\"featurization\\\":\\\"auto\\\",\\\"_ignore_package_version_incompatibilities\\\":false,\\\"is_timeseries\\\":false,\\\"max_cores_per_iteration\\\":-1,\\\"max_concurrent_iterations\\\":4,\\\"iteration_timeout_minutes\\\":null,\\\"mem_in_mb\\\":null,\\\"enforce_time_on_windows\\\":false,\\\"experiment_timeout_minutes\\\":60,\\\"experiment_exit_score\\\":null,\\\"whitelist_models\\\":null,\\\"blacklist_algos\\\":[\\\"TensorFlowLinearClassifier\\\",\\\"TensorFlowDNN\\\"],\\\"supported_models\\\":[\\\"LogisticRegression\\\",\\\"SVM\\\",\\\"LinearSVM\\\",\\\"ExtremeRandomTrees\\\",\\\"XGBoostClassifier\\\",\\\"AveragedPerceptronClassifier\\\",\\\"BernoulliNaiveBayes\\\",\\\"SGD\\\",\\\"KNN\\\",\\\"MultinomialNaiveBayes\\\",\\\"RandomForest\\\",\\\"LightGBM\\\",\\\"TensorFlowDNN\\\",\\\"TensorFlowLinearClassifier\\\",\\\"DecisionTree\\\",\\\"GradientBoosting\\\"],\\\"auto_blacklist\\\":true,\\\"blacklist_samples_reached\\\":false,\\\"exclude_nan_labels\\\":true,\\\"verbosity\\\":20,\\\"_debug_log\\\":\\\"azureml_automl.log\\\",\\\"show_warnings\\\":false,\\\"model_explainability\\\":true,\\\"service_url\\\":null,\\\"sdk_url\\\":null,\\\"sdk_packages\\\":null,\\\"enable_onnx_compatible_models\\\":false,\\\"enable_split_onnx_featurizer_estimator_models\\\":false,\\\"vm_type\\\":\\\"STANDARD_D2_V2\\\",\\\"telemetry_verbosity\\\":20,\\\"send_telemetry\\\":true,\\\"enable_dnn\\\":false,\\\"scenario\\\":\\\"SDK-1.13.0\\\",\\\"environment_label\\\":null,\\\"force_text_dnn\\\":false,\\\"enable_feature_sweeping\\\":true,\\\"enable_early_stopping\\\":true,\\\"early_stopping_n_iters\\\":10,\\\"metrics\\\":null,\\\"enable_ensembling\\\":true,\\\"enable_stack_ensembling\\\":true,\\\"ensemble_iterations\\\":15,\\\"enable_tf\\\":false,\\\"enable_subsampling\\\":null,\\\"subsample_seed\\\":null,\\\"enable_nimbusml\\\":false,\\\"enable_streaming\\\":false,\\\"force_streaming\\\":false,\\\"track_child_runs\\\":true,\\\"allowed_private_models\\\":[],\\\"label_column_name\\\":\\\"name\\\",\\\"weight_column_name\\\":null,\\\"cv_split_column_names\\\":null,\\\"enable_local_managed\\\":false,\\\"_local_managed_run_id\\\":null,\\\"cost_mode\\\":1,\\\"lag_length\\\":0,\\\"metric_operation\\\":\\\"maximize\\\",\\\"preprocess\\\":true}\", \"DataPrepJsonString\": \"{\\\\\\\"training_data\\\\\\\": \\\\\\\"{\\\\\\\\\\\\\\\"blocks\\\\\\\\\\\\\\\": [{\\\\\\\\\\\\\\\"id\\\\\\\\\\\\\\\": \\\\\\\\\\\\\\\"3f72399e-ae62-4dec-8555-e6dd969994e9\\\\\\\\\\\\\\\", \\\\\\\\\\\\\\\"type\\\\\\\\\\\\\\\": \\\\\\\\\\\\\\\"Microsoft.DPrep.GetFilesBlock\\\\\\\\\\\\\\\", \\\\\\\\\\\\\\\"arguments\\\\\\\\\\\\\\\": {\\\\\\\\\\\\\\\"isArchive\\\\\\\\\\\\\\\": false, \\\\\\\\\\\\\\\"path\\\\\\\\\\\\\\\": {\\\\\\\\\\\\\\\"target\\\\\\\\\\\\\\\": 4, \\\\\\\\\\\\\\\"resourceDetails\\\\\\\\\\\\\\\": [{\\\\\\\\\\\\\\\"path\\\\\\\\\\\\\\\": \\\\\\\\\\\\\\\"https://raw.githubusercontent.com/alihussainia/Azure3/main/wine.csv\\\\\\\\\\\\\\\"}]}}, \\\\\\\\\\\\\\\"localData\\\\\\\\\\\\\\\": {}, \\\\\\\\\\\\\\\"isEnabled\\\\\\\\\\\\\\\": true, \\\\\\\\\\\\\\\"name\\\\\\\\\\\\\\\": null, \\\\\\\\\\\\\\\"annotation\\\\\\\\\\\\\\\": null}, {\\\\\\\\\\\\\\\"id\\\\\\\\\\\\\\\": \\\\\\\\\\\\\\\"5a57a6f7-166b-49ae-9497-6ee37105ea99\\\\\\\\\\\\\\\", \\\\\\\\\\\\\\\"type\\\\\\\\\\\\\\\": \\\\\\\\\\\\\\\"Microsoft.DPrep.ParseDelimitedBlock\\\\\\\\\\\\\\\", \\\\\\\\\\\\\\\"arguments\\\\\\\\\\\\\\\": {\\\\\\\\\\\\\\\"columnHeadersMode\\\\\\\\\\\\\\\": 3, \\\\\\\\\\\\\\\"fileEncoding\\\\\\\\\\\\\\\": 0, \\\\\\\\\\\\\\\"handleQuotedLineBreaks\\\\\\\\\\\\\\\": false, \\\\\\\\\\\\\\\"preview\\\\\\\\\\\\\\\": false, \\\\\\\\\\\\\\\"separator\\\\\\\\\\\\\\\": \\\\\\\\\\\\\\\",\\\\\\\\\\\\\\\", \\\\\\\\\\\\\\\"skipRows\\\\\\\\\\\\\\\": 0, \\\\\\\\\\\\\\\"skipRowsMode\\\\\\\\\\\\\\\": 0}, \\\\\\\\\\\\\\\"localData\\\\\\\\\\\\\\\": {}, \\\\\\\\\\\\\\\"isEnabled\\\\\\\\\\\\\\\": true, \\\\\\\\\\\\\\\"name\\\\\\\\\\\\\\\": null, \\\\\\\\\\\\\\\"annotation\\\\\\\\\\\\\\\": null}, {\\\\\\\\\\\\\\\"id\\\\\\\\\\\\\\\": \\\\\\\\\\\\\\\"5a94094d-f0f1-4df0-b1cf-ca9e2fe1d691\\\\\\\\\\\\\\\", \\\\\\\\\\\\\\\"type\\\\\\\\\\\\\\\": \\\\\\\\\\\\\\\"Microsoft.DPrep.DropColumnsBlock\\\\\\\\\\\\\\\", \\\\\\\\\\\\\\\"arguments\\\\\\\\\\\\\\\": {\\\\\\\\\\\\\\\"columns\\\\\\\\\\\\\\\": {\\\\\\\\\\\\\\\"type\\\\\\\\\\\\\\\": 0, \\\\\\\\\\\\\\\"details\\\\\\\\\\\\\\\": {\\\\\\\\\\\\\\\"selectedColumns\\\\\\\\\\\\\\\": [\\\\\\\\\\\\\\\"Path\\\\\\\\\\\\\\\"]}}}, \\\\\\\\\\\\\\\"localData\\\\\\\\\\\\\\\": {}, \\\\\\\\\\\\\\\"isEnabled\\\\\\\\\\\\\\\": true, \\\\\\\\\\\\\\\"name\\\\\\\\\\\\\\\": null, \\\\\\\\\\\\\\\"annotation\\\\\\\\\\\\\\\": null}, {\\\\\\\\\\\\\\\"id\\\\\\\\\\\\\\\": \\\\\\\\\\\\\\\"d4d1adf9-1697-45ef-a2f7-90d33d67a24a\\\\\\\\\\\\\\\", \\\\\\\\\\\\\\\"type\\\\\\\\\\\\\\\": \\\\\\\\\\\\\\\"Microsoft.DPrep.SetColumnTypesBlock\\\\\\\\\\\\\\\", \\\\\\\\\\\\\\\"arguments\\\\\\\\\\\\\\\": {\\\\\\\\\\\\\\\"columnConversion\\\\\\\\\\\\\\\": [{\\\\\\\\\\\\\\\"column\\\\\\\\\\\\\\\": {\\\\\\\\\\\\\\\"type\\\\\\\\\\\\\\\": 2, \\\\\\\\\\\\\\\"details\\\\\\\\\\\\\\\": {\\\\\\\\\\\\\\\"selectedColumn\\\\\\\\\\\\\\\": \\\\\\\\\\\\\\\"name\\\\\\\\\\\\\\\"}}, \\\\\\\\\\\\\\\"typeProperty\\\\\\\\\\\\\\\": 2}, {\\\\\\\\\\\\\\\"column\\\\\\\\\\\\\\\": {\\\\\\\\\\\\\\\"type\\\\\\\\\\\\\\\": 2, \\\\\\\\\\\\\\\"details\\\\\\\\\\\\\\\": {\\\\\\\\\\\\\\\"selectedColumn\\\\\\\\\\\\\\\": \\\\\\\\\\\\\\\"alcohol\\\\\\\\\\\\\\\"}}, \\\\\\\\\\\\\\\"typeProperty\\\\\\\\\\\\\\\": 3}, {\\\\\\\\\\\\\\\"column\\\\\\\\\\\\\\\": {\\\\\\\\\\\\\\\"type\\\\\\\\\\\\\\\": 2, \\\\\\\\\\\\\\\"details\\\\\\\\\\\\\\\": {\\\\\\\\\\\\\\\"selectedColumn\\\\\\\\\\\\\\\": \\\\\\\\\\\\\\\"malicAcid\\\\\\\\\\\\\\\"}}, \\\\\\\\\\\\\\\"typeProperty\\\\\\\\\\\\\\\": 3}, {\\\\\\\\\\\\\\\"column\\\\\\\\\\\\\\\": {\\\\\\\\\\\\\\\"type\\\\\\\\\\\\\\\": 2, \\\\\\\\\\\\\\\"details\\\\\\\\\\\\\\\": {\\\\\\\\\\\\\\\"selectedColumn\\\\\\\\\\\\\\\": \\\\\\\\\\\\\\\"ash\\\\\\\\\\\\\\\"}}, \\\\\\\\\\\\\\\"typeProperty\\\\\\\\\\\\\\\": 3}, {\\\\\\\\\\\\\\\"column\\\\\\\\\\\\\\\": {\\\\\\\\\\\\\\\"type\\\\\\\\\\\\\\\": 2, \\\\\\\\\\\\\\\"details\\\\\\\\\\\\\\\": {\\\\\\\\\\\\\\\"selectedColumn\\\\\\\\\\\\\\\": \\\\\\\\\\\\\\\"ashalcalinity\\\\\\\\\\\\\\\"}}, \\\\\\\\\\\\\\\"typeProperty\\\\\\\\\\\\\\\": 3}, {\\\\\\\\\\\\\\\"column\\\\\\\\\\\\\\\": {\\\\\\\\\\\\\\\"type\\\\\\\\\\\\\\\": 2, \\\\\\\\\\\\\\\"details\\\\\\\\\\\\\\\": {\\\\\\\\\\\\\\\"selectedColumn\\\\\\\\\\\\\\\": \\\\\\\\\\\\\\\"magnesium\\\\\\\\\\\\\\\"}}, \\\\\\\\\\\\\\\"typeProperty\\\\\\\\\\\\\\\": 2}, {\\\\\\\\\\\\\\\"column\\\\\\\\\\\\\\\": {\\\\\\\\\\\\\\\"type\\\\\\\\\\\\\\\": 2, \\\\\\\\\\\\\\\"details\\\\\\\\\\\\\\\": {\\\\\\\\\\\\\\\"selectedColumn\\\\\\\\\\\\\\\": \\\\\\\\\\\\\\\"totalPhenols\\\\\\\\\\\\\\\"}}, \\\\\\\\\\\\\\\"typeProperty\\\\\\\\\\\\\\\": 3}, {\\\\\\\\\\\\\\\"column\\\\\\\\\\\\\\\": {\\\\\\\\\\\\\\\"type\\\\\\\\\\\\\\\": 2, \\\\\\\\\\\\\\\"details\\\\\\\\\\\\\\\": {\\\\\\\\\\\\\\\"selectedColumn\\\\\\\\\\\\\\\": \\\\\\\\\\\\\\\"flavanoids\\\\\\\\\\\\\\\"}}, \\\\\\\\\\\\\\\"typeProperty\\\\\\\\\\\\\\\": 3}, {\\\\\\\\\\\\\\\"column\\\\\\\\\\\\\\\": {\\\\\\\\\\\\\\\"type\\\\\\\\\\\\\\\": 2, \\\\\\\\\\\\\\\"details\\\\\\\\\\\\\\\": {\\\\\\\\\\\\\\\"selectedColumn\\\\\\\\\\\\\\\": \\\\\\\\\\\\\\\"nonFlavanoidPhenols\\\\\\\\\\\\\\\"}}, \\\\\\\\\\\\\\\"typeProperty\\\\\\\\\\\\\\\": 3}, {\\\\\\\\\\\\\\\"column\\\\\\\\\\\\\\\": {\\\\\\\\\\\\\\\"type\\\\\\\\\\\\\\\": 2, \\\\\\\\\\\\\\\"details\\\\\\\\\\\\\\\": {\\\\\\\\\\\\\\\"selectedColumn\\\\\\\\\\\\\\\": \\\\\\\\\\\\\\\"proanthocyanins\\\\\\\\\\\\\\\"}}, \\\\\\\\\\\\\\\"typeProperty\\\\\\\\\\\\\\\": 3}, {\\\\\\\\\\\\\\\"column\\\\\\\\\\\\\\\": {\\\\\\\\\\\\\\\"type\\\\\\\\\\\\\\\": 2, \\\\\\\\\\\\\\\"details\\\\\\\\\\\\\\\": {\\\\\\\\\\\\\\\"selectedColumn\\\\\\\\\\\\\\\": \\\\\\\\\\\\\\\"colorIntensity\\\\\\\\\\\\\\\"}}, \\\\\\\\\\\\\\\"typeProperty\\\\\\\\\\\\\\\": 3}, {\\\\\\\\\\\\\\\"column\\\\\\\\\\\\\\\": {\\\\\\\\\\\\\\\"type\\\\\\\\\\\\\\\": 2, \\\\\\\\\\\\\\\"details\\\\\\\\\\\\\\\": {\\\\\\\\\\\\\\\"selectedColumn\\\\\\\\\\\\\\\": \\\\\\\\\\\\\\\"hue\\\\\\\\\\\\\\\"}}, \\\\\\\\\\\\\\\"typeProperty\\\\\\\\\\\\\\\": 3}, {\\\\\\\\\\\\\\\"column\\\\\\\\\\\\\\\": {\\\\\\\\\\\\\\\"type\\\\\\\\\\\\\\\": 2, \\\\\\\\\\\\\\\"details\\\\\\\\\\\\\\\": {\\\\\\\\\\\\\\\"selectedColumn\\\\\\\\\\\\\\\": \\\\\\\\\\\\\\\"od280_od315\\\\\\\\\\\\\\\"}}, \\\\\\\\\\\\\\\"typeProperty\\\\\\\\\\\\\\\": 3}, {\\\\\\\\\\\\\\\"column\\\\\\\\\\\\\\\": {\\\\\\\\\\\\\\\"type\\\\\\\\\\\\\\\": 2, \\\\\\\\\\\\\\\"details\\\\\\\\\\\\\\\": {\\\\\\\\\\\\\\\"selectedColumn\\\\\\\\\\\\\\\": \\\\\\\\\\\\\\\"proline\\\\\\\\\\\\\\\"}}, \\\\\\\\\\\\\\\"typeProperty\\\\\\\\\\\\\\\": 2}]}, \\\\\\\\\\\\\\\"localData\\\\\\\\\\\\\\\": {}, \\\\\\\\\\\\\\\"isEnabled\\\\\\\\\\\\\\\": true, \\\\\\\\\\\\\\\"name\\\\\\\\\\\\\\\": null, \\\\\\\\\\\\\\\"annotation\\\\\\\\\\\\\\\": null}], \\\\\\\\\\\\\\\"inspectors\\\\\\\\\\\\\\\": [], \\\\\\\\\\\\\\\"meta\\\\\\\\\\\\\\\": {\\\\\\\\\\\\\\\"savedDatasetId\\\\\\\\\\\\\\\": \\\\\\\\\\\\\\\"10e21dc4-a745-42c7-9df4-a3b9cfe78b0c\\\\\\\\\\\\\\\", \\\\\\\\\\\\\\\"datasetType\\\\\\\\\\\\\\\": \\\\\\\\\\\\\\\"tabular\\\\\\\\\\\\\\\", \\\\\\\\\\\\\\\"subscriptionId\\\\\\\\\\\\\\\": \\\\\\\\\\\\\\\"610d6e37-4747-4a20-80eb-3aad70a55f43\\\\\\\\\\\\\\\", \\\\\\\\\\\\\\\"workspaceId\\\\\\\\\\\\\\\": \\\\\\\\\\\\\\\"7f9338d8-287d-4864-bec1-8051b07ee720\\\\\\\\\\\\\\\", \\\\\\\\\\\\\\\"workspaceLocation\\\\\\\\\\\\\\\": \\\\\\\\\\\\\\\"southcentralus\\\\\\\\\\\\\\\"}}\\\\\\\", \\\\\\\"activities\\\\\\\": 0}\", \"EnableSubsampling\": null, \"runTemplate\": \"AutoML\", \"azureml.runsource\": \"automl\", \"display_task_type\": \"classification\", \"dependencies_versions\": \"{\\\"azureml-widgets\\\": \\\"1.20.0\\\", \\\"azureml-train\\\": \\\"1.20.0\\\", \\\"azureml-train-restclients-hyperdrive\\\": \\\"1.20.0\\\", \\\"azureml-train-core\\\": \\\"1.20.0\\\", \\\"azureml-train-automl\\\": \\\"1.20.0\\\", \\\"azureml-train-automl-runtime\\\": \\\"1.20.0\\\", \\\"azureml-train-automl-client\\\": \\\"1.20.0\\\", \\\"azureml-tensorboard\\\": \\\"1.20.0\\\", \\\"azureml-telemetry\\\": \\\"1.20.0\\\", \\\"azureml-sdk\\\": \\\"1.20.0\\\", \\\"azureml-samples\\\": \\\"0+unknown\\\", \\\"azureml-pipeline\\\": \\\"1.20.0\\\", \\\"azureml-pipeline-steps\\\": \\\"1.20.0\\\", \\\"azureml-pipeline-core\\\": \\\"1.20.0\\\", \\\"azureml-opendatasets\\\": \\\"1.20.0\\\", \\\"azureml-model-management-sdk\\\": \\\"1.0.1b6.post1\\\", \\\"azureml-mlflow\\\": \\\"1.20.0.post1\\\", \\\"azureml-interpret\\\": \\\"1.20.0\\\", \\\"azureml-explain-model\\\": \\\"1.20.0\\\", \\\"azureml-defaults\\\": \\\"1.20.0\\\", \\\"azureml-dataset-runtime\\\": \\\"1.20.0\\\", \\\"azureml-dataprep\\\": \\\"2.7.3\\\", \\\"azureml-dataprep-rslex\\\": \\\"1.5.0\\\", \\\"azureml-dataprep-native\\\": \\\"27.0.0\\\", \\\"azureml-datadrift\\\": \\\"1.20.0\\\", \\\"azureml-core\\\": \\\"1.20.0\\\", \\\"azureml-contrib-services\\\": \\\"1.20.0\\\", \\\"azureml-contrib-server\\\": \\\"1.20.0\\\", \\\"azureml-contrib-reinforcementlearning\\\": \\\"1.20.0\\\", \\\"azureml-contrib-pipeline-steps\\\": \\\"1.20.0\\\", \\\"azureml-contrib-notebook\\\": \\\"1.20.0\\\", \\\"azureml-contrib-interpret\\\": \\\"1.20.0\\\", \\\"azureml-contrib-gbdt\\\": \\\"1.20.0\\\", \\\"azureml-contrib-fairness\\\": \\\"1.20.0\\\", \\\"azureml-contrib-dataset\\\": \\\"1.20.0\\\", \\\"azureml-cli-common\\\": \\\"1.20.0\\\", \\\"azureml-automl-runtime\\\": \\\"1.20.0\\\", \\\"azureml-automl-core\\\": \\\"1.20.0\\\", \\\"azureml-accel-models\\\": \\\"1.20.0\\\"}\", \"_aml_system_scenario_identification\": \"Remote.Parent\", \"ClientType\": \"SDK\", \"environment_cpu_name\": \"AzureML-AutoML\", \"environment_cpu_label\": \"prod\", \"environment_gpu_name\": \"AzureML-AutoML-GPU\", \"environment_gpu_label\": \"prod\", \"root_attribution\": \"automl\", \"attribution\": \"AutoML\", \"Orchestrator\": \"AutoML\", \"CancelUri\": \"https://southcentralus.experiments.azureml.net/jasmine/v1.0/subscriptions/610d6e37-4747-4a20-80eb-3aad70a55f43/resourceGroups/aml-quickstarts-137280/providers/Microsoft.MachineLearningServices/workspaces/quick-starts-ws-137280/experimentids/3a925190-4cc5-4122-adb8-e7fce0ac5fb4/cancel/AutoML_a5282e99-6962-4b8a-9682-aa3257bcac67\", \"ClientSdkVersion\": \"1.21.0\", \"snapshotId\": \"00000000-0000-0000-0000-000000000000\", \"SetupRunId\": \"AutoML_a5282e99-6962-4b8a-9682-aa3257bcac67_setup\", \"SetupRunContainerId\": \"dcid.AutoML_a5282e99-6962-4b8a-9682-aa3257bcac67_setup\", \"FeaturizationRunJsonPath\": \"featurizer_container.json\", \"FeaturizationRunId\": \"AutoML_a5282e99-6962-4b8a-9682-aa3257bcac67_featurize\", \"ProblemInfoJsonString\": \"{\\\"dataset_num_categorical\\\": 0, \\\"is_sparse\\\": false, \\\"subsampling\\\": false, \\\"dataset_classes\\\": 3, \\\"dataset_features\\\": 13, \\\"dataset_samples\\\": 177, \\\"single_frequency_class_detected\\\": false}\", \"ModelExplainRunId\": \"AutoML_a5282e99-6962-4b8a-9682-aa3257bcac67_ModelExplain\"}, \"tags\": {\"model_explain_run\": \"best_run\", \"_aml_system_azureml.automlComponent\": \"AutoML\", \"pipeline_id\": \"\", \"score\": \"\", \"predicted_cost\": \"\", \"fit_time\": \"\", \"training_percent\": \"\", \"iteration\": \"\", \"run_preprocessor\": \"\", \"run_algorithm\": \"\", \"dynamic_whitelisting_iterations\": \"<25>;<30>;<35>;\", \"automl_best_child_run_id\": \"AutoML_a5282e99-6962-4b8a-9682-aa3257bcac67_22\", \"model_explain_best_run_child_id\": \"AutoML_a5282e99-6962-4b8a-9682-aa3257bcac67_22\"}, \"end_time_utc\": \"2021-02-05T00:21:31.062491Z\", \"status\": \"Completed\", \"log_files\": {}, \"log_groups\": [], \"run_duration\": \"0:25:33\"}, \"child_runs\": [{\"run_id\": \"AutoML_a5282e99-6962-4b8a-9682-aa3257bcac67_0\", \"run_number\": 5, \"metric\": null, \"status\": \"Completed\", \"run_type\": \"azureml.scriptrun\", \"training_percent\": \"100\", \"start_time\": \"2021-02-05T00:07:54.576144Z\", \"end_time\": \"2021-02-05T00:08:52.859909Z\", \"created_time\": \"2021-02-05T00:04:32.557518Z\", \"created_time_dt\": \"2021-02-05T00:04:32.557518Z\", \"duration\": \"0:04:20\", \"iteration\": \"0\", \"goal\": \"AUC_weighted_max\", \"run_name\": \"MaxAbsScaler, LightGBM\", \"run_properties\": \"copy=True\", \"primary_metric\": 0.9985586, \"best_metric\": 0.9985586}, {\"run_id\": \"AutoML_a5282e99-6962-4b8a-9682-aa3257bcac67_2\", \"run_number\": 6, \"metric\": null, \"status\": \"Completed\", \"run_type\": \"azureml.scriptrun\", \"training_percent\": \"100\", \"start_time\": \"2021-02-05T00:06:49.04061Z\", \"end_time\": \"2021-02-05T00:07:48.725277Z\", \"created_time\": \"2021-02-05T00:04:32.568128Z\", \"created_time_dt\": \"2021-02-05T00:04:32.568128Z\", \"duration\": \"0:03:16\", \"iteration\": \"2\", \"goal\": \"AUC_weighted_max\", \"run_name\": \"MinMaxScaler, RandomForest\", \"run_properties\": \"copy=True, feature_range=(0, 1\", \"primary_metric\": 0.99386541, \"best_metric\": 0.9985586}, {\"run_id\": \"AutoML_a5282e99-6962-4b8a-9682-aa3257bcac67_3\", \"run_number\": 7, \"metric\": null, \"status\": \"Completed\", \"run_type\": \"azureml.scriptrun\", \"training_percent\": \"100\", \"start_time\": \"2021-02-05T00:04:45.158012Z\", \"end_time\": \"2021-02-05T00:05:40.413704Z\", \"created_time\": \"2021-02-05T00:04:32.58191Z\", \"created_time_dt\": \"2021-02-05T00:04:32.58191Z\", \"duration\": \"0:01:07\", \"iteration\": \"3\", \"goal\": \"AUC_weighted_max\", \"run_name\": \"RobustScaler, ExtremeRandomTrees\", \"run_properties\": \"copy=True, quantile_range=[10, 90], with_centering=False,\\n             with_scaling=False\", \"primary_metric\": 0.99927568, \"best_metric\": 0.99927568}, {\"run_id\": \"AutoML_a5282e99-6962-4b8a-9682-aa3257bcac67_1\", \"run_number\": 8, \"metric\": null, \"status\": \"Completed\", \"run_type\": \"azureml.scriptrun\", \"training_percent\": \"100\", \"start_time\": \"2021-02-05T00:05:46.881952Z\", \"end_time\": \"2021-02-05T00:06:48.144029Z\", \"created_time\": \"2021-02-05T00:04:32.581632Z\", \"created_time_dt\": \"2021-02-05T00:04:32.581632Z\", \"duration\": \"0:02:15\", \"iteration\": \"1\", \"goal\": \"AUC_weighted_max\", \"run_name\": \"MaxAbsScaler, XGBoostClassifier\", \"run_properties\": \"copy=True\", \"primary_metric\": 0.99839578, \"best_metric\": 0.9985586}, {\"run_id\": \"AutoML_a5282e99-6962-4b8a-9682-aa3257bcac67_4\", \"run_number\": 9, \"metric\": null, \"status\": \"Completed\", \"run_type\": \"azureml.scriptrun\", \"training_percent\": \"100\", \"start_time\": \"2021-02-05T00:08:18.167989Z\", \"end_time\": \"2021-02-05T00:11:50.759821Z\", \"created_time\": \"2021-02-05T00:05:43.599804Z\", \"created_time_dt\": \"2021-02-05T00:05:43.599804Z\", \"duration\": \"0:06:07\", \"iteration\": \"4\", \"goal\": \"AUC_weighted_max\", \"run_name\": \"MinMaxScaler, RandomForest\", \"run_properties\": \"copy=True, feature_range=(0, 1\", \"primary_metric\": 0.99913081, \"best_metric\": 0.99927568}, {\"run_id\": \"AutoML_a5282e99-6962-4b8a-9682-aa3257bcac67_5\", \"run_number\": 10, \"metric\": null, \"status\": \"Completed\", \"run_type\": \"azureml.scriptrun\", \"training_percent\": \"100\", \"start_time\": \"2021-02-05T00:08:23.055395Z\", \"end_time\": \"2021-02-05T00:12:01.277198Z\", \"created_time\": \"2021-02-05T00:06:52.523796Z\", \"created_time_dt\": \"2021-02-05T00:06:52.523796Z\", \"duration\": \"0:05:08\", \"iteration\": \"5\", \"goal\": \"AUC_weighted_max\", \"run_name\": \"MinMaxScaler, RandomForest\", \"run_properties\": \"copy=True, feature_range=(0, 1\", \"primary_metric\": 0.99813385, \"best_metric\": 0.99927568}, {\"run_id\": \"AutoML_a5282e99-6962-4b8a-9682-aa3257bcac67_6\", \"run_number\": 11, \"metric\": null, \"status\": \"Completed\", \"run_type\": \"azureml.scriptrun\", \"training_percent\": \"100\", \"start_time\": \"2021-02-05T00:08:22.328903Z\", \"end_time\": \"2021-02-05T00:11:54.483386Z\", \"created_time\": \"2021-02-05T00:07:52.868109Z\", \"created_time_dt\": \"2021-02-05T00:07:52.868109Z\", \"duration\": \"0:04:01\", \"iteration\": \"6\", \"goal\": \"AUC_weighted_max\", \"run_name\": \"StandardScalerWrapper, RandomForest\", \"run_properties\": \"<azureml.automl.runtime.shared.model_wrappers.StandardScalerWrapper object at 0x7f2700a02c18\", \"primary_metric\": 0.99913806, \"best_metric\": 0.99927568}, {\"run_id\": \"AutoML_a5282e99-6962-4b8a-9682-aa3257bcac67_7\", \"run_number\": 12, \"metric\": null, \"status\": \"Completed\", \"run_type\": \"azureml.scriptrun\", \"training_percent\": \"100\", \"start_time\": \"2021-02-05T00:09:08.300609Z\", \"end_time\": \"2021-02-05T00:10:12.790061Z\", \"created_time\": \"2021-02-05T00:08:56.309524Z\", \"created_time_dt\": \"2021-02-05T00:08:56.309524Z\", \"duration\": \"0:01:16\", \"iteration\": \"7\", \"goal\": \"AUC_weighted_max\", \"run_name\": \"MinMaxScaler, ExtremeRandomTrees\", \"run_properties\": \"copy=True, feature_range=(0, 1\", \"primary_metric\": 0.99427469, \"best_metric\": 0.99927568}, {\"run_id\": \"AutoML_a5282e99-6962-4b8a-9682-aa3257bcac67_8\", \"run_number\": 13, \"metric\": null, \"status\": \"Completed\", \"run_type\": \"azureml.scriptrun\", \"training_percent\": \"100\", \"start_time\": \"2021-02-05T00:10:31.507408Z\", \"end_time\": \"2021-02-05T00:11:30.458846Z\", \"created_time\": \"2021-02-05T00:10:17.390145Z\", \"created_time_dt\": \"2021-02-05T00:10:17.390145Z\", \"duration\": \"0:01:13\", \"iteration\": \"8\", \"goal\": \"AUC_weighted_max\", \"run_name\": \"MinMaxScaler, ExtremeRandomTrees\", \"run_properties\": \"copy=True, feature_range=(0, 1\", \"primary_metric\": 0.99855135, \"best_metric\": 0.99927568}, {\"run_id\": \"AutoML_a5282e99-6962-4b8a-9682-aa3257bcac67_9\", \"run_number\": 14, \"metric\": null, \"status\": \"Completed\", \"run_type\": \"azureml.scriptrun\", \"training_percent\": \"100\", \"start_time\": \"2021-02-05T00:11:45.421181Z\", \"end_time\": \"2021-02-05T00:12:35.978216Z\", \"created_time\": \"2021-02-05T00:11:33.510726Z\", \"created_time_dt\": \"2021-02-05T00:11:33.510726Z\", \"duration\": \"0:01:02\", \"iteration\": \"9\", \"goal\": \"AUC_weighted_max\", \"run_name\": \"SparseNormalizer, KNN\", \"run_properties\": \"<azureml.automl.runtime.shared.model_wrappers.SparseNormalizer object at 0x7f936d4d1898\", \"primary_metric\": 0.96606372, \"best_metric\": 0.99927568}, {\"run_id\": \"AutoML_a5282e99-6962-4b8a-9682-aa3257bcac67_10\", \"run_number\": 15, \"metric\": null, \"status\": \"Completed\", \"run_type\": \"azureml.scriptrun\", \"training_percent\": \"100\", \"start_time\": \"2021-02-05T00:12:05.773557Z\", \"end_time\": \"2021-02-05T00:12:58.415549Z\", \"created_time\": \"2021-02-05T00:11:53.617843Z\", \"created_time_dt\": \"2021-02-05T00:11:53.617843Z\", \"duration\": \"0:01:04\", \"iteration\": \"10\", \"goal\": \"AUC_weighted_max\", \"run_name\": \"MinMaxScaler, ExtremeRandomTrees\", \"run_properties\": \"copy=True, feature_range=(0, 1\", \"primary_metric\": 0.99895681, \"best_metric\": 0.99927568}, {\"run_id\": \"AutoML_a5282e99-6962-4b8a-9682-aa3257bcac67_11\", \"run_number\": 16, \"metric\": null, \"status\": \"Completed\", \"run_type\": \"azureml.scriptrun\", \"training_percent\": \"100\", \"start_time\": \"2021-02-05T00:12:16.068348Z\", \"end_time\": \"2021-02-05T00:13:17.193456Z\", \"created_time\": \"2021-02-05T00:12:01.538864Z\", \"created_time_dt\": \"2021-02-05T00:12:01.538864Z\", \"duration\": \"0:01:15\", \"iteration\": \"11\", \"goal\": \"AUC_weighted_max\", \"run_name\": \"RobustScaler, ExtremeRandomTrees\", \"run_properties\": \"copy=True, quantile_range=[10, 90], with_centering=True,\\n             with_scaling=False\", \"primary_metric\": 0.99898595, \"best_metric\": 0.99927568}, {\"run_id\": \"AutoML_a5282e99-6962-4b8a-9682-aa3257bcac67_12\", \"run_number\": 17, \"metric\": null, \"status\": \"Completed\", \"run_type\": \"azureml.scriptrun\", \"training_percent\": \"100\", \"start_time\": \"2021-02-05T00:12:19.373959Z\", \"end_time\": \"2021-02-05T00:13:14.985905Z\", \"created_time\": \"2021-02-05T00:12:06.266222Z\", \"created_time_dt\": \"2021-02-05T00:12:06.266222Z\", \"duration\": \"0:01:08\", \"iteration\": \"12\", \"goal\": \"AUC_weighted_max\", \"run_name\": \"StandardScalerWrapper, RandomForest\", \"run_properties\": \"<azureml.automl.runtime.shared.model_wrappers.StandardScalerWrapper object at 0x7f71b81767f0\", \"primary_metric\": 0.99792863, \"best_metric\": 0.99927568}, {\"run_id\": \"AutoML_a5282e99-6962-4b8a-9682-aa3257bcac67_13\", \"run_number\": 18, \"metric\": null, \"status\": \"Completed\", \"run_type\": \"azureml.scriptrun\", \"training_percent\": \"100\", \"start_time\": \"2021-02-05T00:12:51.044919Z\", \"end_time\": \"2021-02-05T00:13:40.961065Z\", \"created_time\": \"2021-02-05T00:12:38.667501Z\", \"created_time_dt\": \"2021-02-05T00:12:38.667501Z\", \"duration\": \"0:01:02\", \"iteration\": \"13\", \"goal\": \"AUC_weighted_max\", \"run_name\": \"StandardScalerWrapper, SGD\", \"run_properties\": \"<azureml.automl.runtime.shared.model_wrappers.StandardScalerWrapper object at 0x7fd1d8889c50\", \"primary_metric\": 1.0, \"best_metric\": 1.0}, {\"run_id\": \"AutoML_a5282e99-6962-4b8a-9682-aa3257bcac67_14\", \"run_number\": 19, \"metric\": null, \"status\": \"Completed\", \"run_type\": \"azureml.scriptrun\", \"training_percent\": \"100\", \"start_time\": \"2021-02-05T00:13:13.56277Z\", \"end_time\": \"2021-02-05T00:14:02.785343Z\", \"created_time\": \"2021-02-05T00:13:01.182488Z\", \"created_time_dt\": \"2021-02-05T00:13:01.182488Z\", \"duration\": \"0:01:01\", \"iteration\": \"14\", \"goal\": \"AUC_weighted_max\", \"run_name\": \"RobustScaler, RandomForest\", \"run_properties\": \"copy=True, quantile_range=[10, 90], with_centering=True,\\n             with_scaling=False\", \"primary_metric\": 0.9917077, \"best_metric\": 1.0}, {\"run_id\": \"AutoML_a5282e99-6962-4b8a-9682-aa3257bcac67_15\", \"run_number\": 20, \"metric\": null, \"status\": \"Completed\", \"run_type\": \"azureml.scriptrun\", \"training_percent\": \"100\", \"start_time\": \"2021-02-05T00:13:30.19381Z\", \"end_time\": \"2021-02-05T00:14:21.112888Z\", \"created_time\": \"2021-02-05T00:13:18.850957Z\", \"created_time_dt\": \"2021-02-05T00:13:18.850957Z\", \"duration\": \"0:01:02\", \"iteration\": \"15\", \"goal\": \"AUC_weighted_max\", \"run_name\": \"StandardScalerWrapper, KNN\", \"run_properties\": \"<azureml.automl.runtime.shared.model_wrappers.StandardScalerWrapper object at 0x7f5928407278\", \"primary_metric\": 0.93002601, \"best_metric\": 1.0}, {\"run_id\": \"AutoML_a5282e99-6962-4b8a-9682-aa3257bcac67_16\", \"run_number\": 21, \"metric\": null, \"status\": \"Completed\", \"run_type\": \"azureml.scriptrun\", \"training_percent\": \"100\", \"start_time\": \"2021-02-05T00:13:36.403371Z\", \"end_time\": \"2021-02-05T00:14:28.798855Z\", \"created_time\": \"2021-02-05T00:13:23.530898Z\", \"created_time_dt\": \"2021-02-05T00:13:23.530898Z\", \"duration\": \"0:01:05\", \"iteration\": \"16\", \"goal\": \"AUC_weighted_max\", \"run_name\": \"MinMaxScaler, RandomForest\", \"run_properties\": \"copy=True, feature_range=(0, 1\", \"primary_metric\": 0.99913081, \"best_metric\": 1.0}, {\"run_id\": \"AutoML_a5282e99-6962-4b8a-9682-aa3257bcac67_17\", \"run_number\": 22, \"metric\": null, \"status\": \"Completed\", \"run_type\": \"azureml.scriptrun\", \"training_percent\": \"100\", \"start_time\": \"2021-02-05T00:13:57.261922Z\", \"end_time\": \"2021-02-05T00:14:51.913317Z\", \"created_time\": \"2021-02-05T00:13:45.588711Z\", \"created_time_dt\": \"2021-02-05T00:13:45.588711Z\", \"duration\": \"0:01:06\", \"iteration\": \"17\", \"goal\": \"AUC_weighted_max\", \"run_name\": \"MinMaxScaler, ExtremeRandomTrees\", \"run_properties\": \"copy=True, feature_range=(0, 1\", \"primary_metric\": 0.99851185, \"best_metric\": 1.0}, {\"run_id\": \"AutoML_a5282e99-6962-4b8a-9682-aa3257bcac67_18\", \"run_number\": 23, \"metric\": null, \"status\": \"Completed\", \"run_type\": \"azureml.scriptrun\", \"training_percent\": \"100\", \"start_time\": \"2021-02-05T00:14:22.041087Z\", \"end_time\": \"2021-02-05T00:15:14.118125Z\", \"created_time\": \"2021-02-05T00:14:07.146361Z\", \"created_time_dt\": \"2021-02-05T00:14:07.146361Z\", \"duration\": \"0:01:06\", \"iteration\": \"18\", \"goal\": \"AUC_weighted_max\", \"run_name\": \"MaxAbsScaler, RandomForest\", \"run_properties\": \"copy=True\", \"primary_metric\": 0.99956541, \"best_metric\": 1.0}, {\"run_id\": \"AutoML_a5282e99-6962-4b8a-9682-aa3257bcac67_19\", \"run_number\": 24, \"metric\": null, \"status\": \"Completed\", \"run_type\": \"azureml.scriptrun\", \"training_percent\": \"100\", \"start_time\": \"2021-02-05T00:14:37.171062Z\", \"end_time\": \"2021-02-05T00:15:39.083426Z\", \"created_time\": \"2021-02-05T00:14:24.003465Z\", \"created_time_dt\": \"2021-02-05T00:14:24.003465Z\", \"duration\": \"0:01:15\", \"iteration\": \"19\", \"goal\": \"AUC_weighted_max\", \"run_name\": \"StandardScalerWrapper, XGBoostClassifier\", \"run_properties\": \"<azureml.automl.runtime.shared.model_wrappers.StandardScalerWrapper object at 0x7f6509f31f98\", \"primary_metric\": 0.99715459, \"best_metric\": 1.0}, {\"run_id\": \"AutoML_a5282e99-6962-4b8a-9682-aa3257bcac67_20\", \"run_number\": 25, \"metric\": null, \"status\": \"Completed\", \"run_type\": \"azureml.scriptrun\", \"training_percent\": \"100\", \"start_time\": \"2021-02-05T00:14:47.113395Z\", \"end_time\": \"2021-02-05T00:15:43.071705Z\", \"created_time\": \"2021-02-05T00:14:31.543649Z\", \"created_time_dt\": \"2021-02-05T00:14:31.543649Z\", \"duration\": \"0:01:11\", \"iteration\": \"20\", \"goal\": \"AUC_weighted_max\", \"run_name\": \"MaxAbsScaler, RandomForest\", \"run_properties\": \"copy=True\", \"primary_metric\": 0.99863231, \"best_metric\": 1.0}, {\"run_id\": \"AutoML_a5282e99-6962-4b8a-9682-aa3257bcac67_21\", \"run_number\": 26, \"metric\": null, \"status\": \"Completed\", \"run_type\": \"azureml.scriptrun\", \"training_percent\": \"100\", \"start_time\": \"2021-02-05T00:15:06.459504Z\", \"end_time\": \"2021-02-05T00:16:00.357021Z\", \"created_time\": \"2021-02-05T00:14:55.107306Z\", \"created_time_dt\": \"2021-02-05T00:14:55.107306Z\", \"duration\": \"0:01:05\", \"iteration\": \"21\", \"goal\": \"AUC_weighted_max\", \"run_name\": \"MaxAbsScaler, ExtremeRandomTrees\", \"run_properties\": \"copy=True\", \"primary_metric\": 0.99687658, \"best_metric\": 1.0}, {\"run_id\": \"AutoML_a5282e99-6962-4b8a-9682-aa3257bcac67_22\", \"run_number\": 27, \"metric\": null, \"status\": \"Completed\", \"run_type\": \"azureml.scriptrun\", \"training_percent\": \"100\", \"start_time\": \"2021-02-05T00:15:30.639762Z\", \"end_time\": \"2021-02-05T00:16:29.243379Z\", \"created_time\": \"2021-02-05T00:15:17.569402Z\", \"created_time_dt\": \"2021-02-05T00:15:17.569402Z\", \"duration\": \"0:01:11\", \"iteration\": \"22\", \"goal\": \"AUC_weighted_max\", \"run_name\": \"MaxAbsScaler, ExtremeRandomTrees\", \"run_properties\": \"copy=True\", \"primary_metric\": 1.0, \"best_metric\": 1.0}, {\"run_id\": \"AutoML_a5282e99-6962-4b8a-9682-aa3257bcac67_23\", \"run_number\": 28, \"metric\": null, \"status\": \"Completed\", \"run_type\": \"azureml.scriptrun\", \"training_percent\": \"100\", \"start_time\": \"2021-02-05T00:15:53.302983Z\", \"end_time\": \"2021-02-05T00:16:46.740091Z\", \"created_time\": \"2021-02-05T00:15:41.601448Z\", \"created_time_dt\": \"2021-02-05T00:15:41.601448Z\", \"duration\": \"0:01:05\", \"iteration\": \"23\", \"goal\": \"AUC_weighted_max\", \"run_name\": \"StandardScalerWrapper, LogisticRegression\", \"run_properties\": \"<azureml.automl.runtime.shared.model_wrappers.StandardScalerWrapper object at 0x7f78d1dbe208\", \"primary_metric\": 0.99789711, \"best_metric\": 1.0}, {\"run_id\": \"AutoML_a5282e99-6962-4b8a-9682-aa3257bcac67_24\", \"run_number\": 29, \"metric\": null, \"status\": \"Completed\", \"run_type\": \"azureml.scriptrun\", \"training_percent\": \"100\", \"start_time\": \"2021-02-05T00:15:58.734779Z\", \"end_time\": \"2021-02-05T00:16:48.027858Z\", \"created_time\": \"2021-02-05T00:15:45.826917Z\", \"created_time_dt\": \"2021-02-05T00:15:45.826917Z\", \"duration\": \"0:01:02\", \"iteration\": \"24\", \"goal\": \"AUC_weighted_max\", \"run_name\": \"MaxAbsScaler, LogisticRegression\", \"run_properties\": \"copy=True\", \"primary_metric\": 0.99919611, \"best_metric\": 1.0}, {\"run_id\": \"AutoML_a5282e99-6962-4b8a-9682-aa3257bcac67_25\", \"run_number\": 30, \"metric\": null, \"status\": \"Completed\", \"run_type\": \"azureml.scriptrun\", \"training_percent\": \"100\", \"start_time\": \"2021-02-05T00:16:13.258468Z\", \"end_time\": \"2021-02-05T00:17:03.694165Z\", \"created_time\": \"2021-02-05T00:16:03.178006Z\", \"created_time_dt\": \"2021-02-05T00:16:03.178006Z\", \"duration\": \"0:01:00\", \"iteration\": \"25\", \"goal\": \"AUC_weighted_max\", \"run_name\": \"MinMaxScaler, SGD\", \"run_properties\": \"copy=True, feature_range=(0, 1\", \"primary_metric\": 0.99983383, \"best_metric\": 1.0}, {\"run_id\": \"AutoML_a5282e99-6962-4b8a-9682-aa3257bcac67_26\", \"run_number\": 31, \"metric\": null, \"status\": \"Completed\", \"run_type\": \"azureml.scriptrun\", \"training_percent\": \"100\", \"start_time\": \"2021-02-05T00:16:43.01711Z\", \"end_time\": \"2021-02-05T00:17:38.515787Z\", \"created_time\": \"2021-02-05T00:16:31.151919Z\", \"created_time_dt\": \"2021-02-05T00:16:31.151919Z\", \"duration\": \"0:01:07\", \"iteration\": \"26\", \"goal\": \"AUC_weighted_max\", \"run_name\": \"RobustScaler, SVM\", \"run_properties\": \"copy=True, quantile_range=[10, 90], with_centering=False,\\n             with_scaling=True\", \"primary_metric\": 0.99862224, \"best_metric\": 1.0}, {\"run_id\": \"AutoML_a5282e99-6962-4b8a-9682-aa3257bcac67_27\", \"run_number\": 32, \"metric\": null, \"status\": \"Completed\", \"run_type\": \"azureml.scriptrun\", \"training_percent\": \"100\", \"start_time\": \"2021-02-05T00:17:00.948649Z\", \"end_time\": \"2021-02-05T00:17:49.54896Z\", \"created_time\": \"2021-02-05T00:16:48.500233Z\", \"created_time_dt\": \"2021-02-05T00:16:48.500233Z\", \"duration\": \"0:01:01\", \"iteration\": \"27\", \"goal\": \"AUC_weighted_max\", \"run_name\": \"TruncatedSVDWrapper, XGBoostClassifier\", \"run_properties\": \"n_components=0.9005263157894737, random_state=None\", \"primary_metric\": 0.98758772, \"best_metric\": 1.0}, {\"run_id\": \"AutoML_a5282e99-6962-4b8a-9682-aa3257bcac67_28\", \"run_number\": 33, \"metric\": null, \"status\": \"Completed\", \"run_type\": \"azureml.scriptrun\", \"training_percent\": \"100\", \"start_time\": \"2021-02-05T00:17:04.730421Z\", \"end_time\": \"2021-02-05T00:17:56.992051Z\", \"created_time\": \"2021-02-05T00:16:52.173654Z\", \"created_time_dt\": \"2021-02-05T00:16:52.173654Z\", \"duration\": \"0:01:04\", \"iteration\": \"28\", \"goal\": \"AUC_weighted_max\", \"run_name\": \"SparseNormalizer, XGBoostClassifier\", \"run_properties\": \"<azureml.automl.runtime.shared.model_wrappers.SparseNormalizer object at 0x7fb0ecdec048\", \"primary_metric\": 0.99256972, \"best_metric\": 1.0}, {\"run_id\": \"AutoML_a5282e99-6962-4b8a-9682-aa3257bcac67_29\", \"run_number\": 34, \"metric\": null, \"status\": \"Completed\", \"run_type\": \"azureml.scriptrun\", \"training_percent\": \"100\", \"start_time\": \"2021-02-05T00:17:20.381043Z\", \"end_time\": \"2021-02-05T00:18:09.486452Z\", \"created_time\": \"2021-02-05T00:17:05.566439Z\", \"created_time_dt\": \"2021-02-05T00:17:05.566439Z\", \"duration\": \"0:01:03\", \"iteration\": \"29\", \"goal\": \"AUC_weighted_max\", \"run_name\": \"RobustScaler, LightGBM\", \"run_properties\": \"copy=True, quantile_range=[10, 90], with_centering=True,\\n             with_scaling=True\", \"primary_metric\": 0.99983383, \"best_metric\": 1.0}, {\"run_id\": \"AutoML_a5282e99-6962-4b8a-9682-aa3257bcac67_30\", \"run_number\": 35, \"metric\": null, \"status\": \"Completed\", \"run_type\": \"azureml.scriptrun\", \"training_percent\": \"100\", \"start_time\": \"2021-02-05T00:17:54.879373Z\", \"end_time\": \"2021-02-05T00:18:48.780199Z\", \"created_time\": \"2021-02-05T00:17:42.963989Z\", \"created_time_dt\": \"2021-02-05T00:17:42.963989Z\", \"duration\": \"0:01:05\", \"iteration\": \"30\", \"goal\": \"AUC_weighted_max\", \"run_name\": \"TruncatedSVDWrapper, SGD\", \"run_properties\": \"n_components=0.20789473684210527, random_state=None\", \"primary_metric\": 0.80292778, \"best_metric\": 1.0}, {\"run_id\": \"AutoML_a5282e99-6962-4b8a-9682-aa3257bcac67_31\", \"run_number\": 36, \"metric\": null, \"status\": \"Completed\", \"run_type\": \"azureml.scriptrun\", \"training_percent\": \"100\", \"start_time\": \"2021-02-05T00:18:02.91012Z\", \"end_time\": \"2021-02-05T00:19:00.086088Z\", \"created_time\": \"2021-02-05T00:17:51.721303Z\", \"created_time_dt\": \"2021-02-05T00:17:51.721303Z\", \"duration\": \"0:01:08\", \"iteration\": \"31\", \"goal\": \"AUC_weighted_max\", \"run_name\": \"SparseNormalizer, XGBoostClassifier\", \"run_properties\": \"<azureml.automl.runtime.shared.model_wrappers.SparseNormalizer object at 0x7f38941f7a20\", \"primary_metric\": 0.98176381, \"best_metric\": 1.0}, {\"run_id\": \"AutoML_a5282e99-6962-4b8a-9682-aa3257bcac67_32\", \"run_number\": 37, \"metric\": null, \"status\": \"Completed\", \"run_type\": \"azureml.scriptrun\", \"training_percent\": \"100\", \"start_time\": \"2021-02-05T00:18:12.399912Z\", \"end_time\": \"2021-02-05T00:19:07.273343Z\", \"created_time\": \"2021-02-05T00:17:58.762707Z\", \"created_time_dt\": \"2021-02-05T00:17:58.762707Z\", \"duration\": \"0:01:08\", \"iteration\": \"32\", \"goal\": \"AUC_weighted_max\", \"run_name\": \"RobustScaler, RandomForest\", \"run_properties\": \"copy=True, quantile_range=[10, 90], with_centering=False,\\n             with_scaling=True\", \"primary_metric\": 0.99427145, \"best_metric\": 1.0}, {\"run_id\": \"AutoML_a5282e99-6962-4b8a-9682-aa3257bcac67_33\", \"run_number\": 38, \"metric\": null, \"status\": \"Canceled\", \"run_type\": \"azureml.scriptrun\", \"training_percent\": \"100\", \"start_time\": \"2021-02-05T00:18:23.856944Z\", \"end_time\": \"2021-02-05T00:19:15.255299Z\", \"created_time\": \"2021-02-05T00:18:11.247169Z\", \"created_time_dt\": \"2021-02-05T00:18:11.247169Z\", \"duration\": \"0:01:04\", \"iteration\": \"33\", \"goal\": \"AUC_weighted_max\", \"run_name\": \"RobustScaler, LightGBM\", \"run_properties\": \"copy=True, quantile_range=[25, 75], with_centering=False,\\n             with_scaling=True\", \"primary_metric\": 0.99694783, \"best_metric\": 1.0}, {\"run_id\": \"AutoML_a5282e99-6962-4b8a-9682-aa3257bcac67_34\", \"run_number\": 39, \"metric\": null, \"status\": \"Canceled\", \"run_type\": \"azureml.scriptrun\", \"training_percent\": \"100\", \"start_time\": \"2021-02-05T00:19:00.804216Z\", \"end_time\": \"2021-02-05T00:19:15.020618Z\", \"created_time\": \"2021-02-05T00:18:50.47237Z\", \"created_time_dt\": \"2021-02-05T00:18:50.47237Z\", \"duration\": \"0:00:24\", \"iteration\": \"34\", \"goal\": null, \"run_name\": \"Canceled\", \"run_properties\": null}, {\"run_id\": \"AutoML_a5282e99-6962-4b8a-9682-aa3257bcac67_35\", \"run_number\": 40, \"metric\": null, \"status\": \"Canceled\", \"run_type\": \"azureml.scriptrun\", \"training_percent\": \"100\", \"start_time\": \"2021-02-05T00:19:02.911863Z\", \"end_time\": \"2021-02-05T00:19:20.187318Z\", \"created_time\": \"2021-02-05T00:19:02.911863Z\", \"created_time_dt\": \"2021-02-05T00:19:02.911863Z\", \"duration\": \"0:00:17\", \"iteration\": \"35\", \"goal\": null, \"run_name\": \"Canceled\", \"run_properties\": null}, {\"run_id\": \"AutoML_a5282e99-6962-4b8a-9682-aa3257bcac67_36\", \"run_number\": 41, \"metric\": null, \"status\": \"Completed\", \"run_type\": \"azureml.scriptrun\", \"training_percent\": \"100\", \"start_time\": \"2021-02-05T00:19:33.398657Z\", \"end_time\": \"2021-02-05T00:21:16.016107Z\", \"created_time\": \"2021-02-05T00:19:21.014929Z\", \"created_time_dt\": \"2021-02-05T00:19:21.014929Z\", \"duration\": \"0:01:55\", \"iteration\": \"36\", \"goal\": \"AUC_weighted_max\", \"run_name\": \"VotingEnsemble\", \"run_properties\": \"classification_labels=None,\\n                              estimators=[('22',\\n                                           Pipeline(memory=None,\\n                                                    steps=[('maxabsscaler',\\n                                                            MaxAbsScaler(copy=True\", \"primary_metric\": 1.0, \"best_metric\": 1.0}, {\"run_id\": \"AutoML_a5282e99-6962-4b8a-9682-aa3257bcac67_37\", \"run_number\": 42, \"metric\": null, \"status\": \"Completed\", \"run_type\": \"azureml.scriptrun\", \"training_percent\": \"100\", \"start_time\": \"2021-02-05T00:19:33.609956Z\", \"end_time\": \"2021-02-05T00:21:15.476493Z\", \"created_time\": \"2021-02-05T00:19:21.024174Z\", \"created_time_dt\": \"2021-02-05T00:19:21.024174Z\", \"duration\": \"0:01:54\", \"iteration\": \"37\", \"goal\": \"AUC_weighted_max\", \"run_name\": \"StackEnsemble\", \"run_properties\": \"base_learners=[('22',\\n                                        Pipeline(memory=None,\\n                                                 steps=[('maxabsscaler',\\n                                                         MaxAbsScaler(copy=True\", \"primary_metric\": 0.9995015, \"best_metric\": 1.0}], \"children_metrics\": {\"categories\": [0], \"series\": {\"accuracy\": [{\"categories\": [\"0\", \"1\", \"2\", \"3\", \"4\", \"5\", \"6\", \"7\", \"8\", \"9\", \"10\", \"11\", \"12\", \"13\", \"14\", \"15\", \"16\", \"17\", \"18\", \"19\", \"20\", \"21\", \"22\", \"23\", \"24\", \"25\", \"26\", \"27\", \"28\", \"29\", \"30\", \"31\", \"32\", \"33\", \"36\", \"37\"], \"mode\": \"markers\", \"name\": \"accuracy\", \"stepped\": false, \"type\": \"scatter\", \"data\": [0.9604519774011301, 0.9717514124293786, 0.9322033898305085, 0.9774011299435029, 0.9830508474576272, 0.9717514124293786, 0.9774011299435029, 0.9491525423728814, 0.9774011299435029, 0.8700564971751413, 0.9604519774011299, 0.9774011299435029, 0.9830508474576272, 0.9830508474576272, 0.943502824858757, 0.768361581920904, 0.9717514124293786, 0.9378531073446328, 0.9830508474576272, 0.9604519774011301, 0.9717514124293786, 0.9661016949152543, 0.9717514124293786, 0.9717514124293786, 0.9830508474576272, 0.9830508474576272, 0.9661016949152543, 0.9152542372881357, 0.9265536723163842, 0.9661016949152543, 0.6214689265536723, 0.9265536723163842, 0.9548022598870056, 0.9661016949152542, 0.9830508474576272, 0.8022598870056497]}, {\"categories\": [\"0\", \"1\", \"2\", \"3\", \"4\", \"5\", \"6\", \"7\", \"8\", \"9\", \"10\", \"11\", \"12\", \"13\", \"14\", \"15\", \"16\", \"17\", \"18\", \"19\", \"20\", \"21\", \"22\", \"23\", \"24\", \"25\", \"26\", \"27\", \"28\", \"29\", \"30\", \"31\", \"32\", \"33\", \"36\", \"37\"], \"mode\": \"lines\", \"name\": \"accuracy_max\", \"stepped\": true, \"type\": \"scatter\", \"data\": [0.9604519774011301, 0.9717514124293786, 0.9717514124293786, 0.9774011299435029, 0.9830508474576272, 0.9830508474576272, 0.9830508474576272, 0.9830508474576272, 0.9830508474576272, 0.9830508474576272, 0.9830508474576272, 0.9830508474576272, 0.9830508474576272, 0.9830508474576272, 0.9830508474576272, 0.9830508474576272, 0.9830508474576272, 0.9830508474576272, 0.9830508474576272, 0.9830508474576272, 0.9830508474576272, 0.9830508474576272, 0.9830508474576272, 0.9830508474576272, 0.9830508474576272, 0.9830508474576272, 0.9830508474576272, 0.9830508474576272, 0.9830508474576272, 0.9830508474576272, 0.9830508474576272, 0.9830508474576272, 0.9830508474576272, 0.9830508474576272, 0.9830508474576272, 0.9830508474576272]}], \"precision_score_weighted\": [{\"categories\": [\"0\", \"1\", \"2\", \"3\", \"4\", \"5\", \"6\", \"7\", \"8\", \"9\", \"10\", \"11\", \"12\", \"13\", \"14\", \"15\", \"16\", \"17\", \"18\", \"19\", \"20\", \"21\", \"22\", \"23\", \"24\", \"25\", \"26\", \"27\", \"28\", \"29\", \"30\", \"31\", \"32\", \"33\", \"36\", \"37\"], \"mode\": \"markers\", \"name\": \"precision_score_weighted\", \"stepped\": false, \"type\": \"scatter\", \"data\": [0.9620267532032237, 0.9717365447517098, 0.9318915861288742, 0.979176818159869, 0.9834854411125598, 0.9730513993225857, 0.9776073894717964, 0.9524910118130457, 0.9800464826257015, 0.8842146723248545, 0.9608439739795672, 0.9791808944351317, 0.9833333333333334, 0.9845126624787642, 0.9463607641573742, 0.7837785770503635, 0.9743887170809303, 0.9448977064414507, 0.9840683484751281, 0.9653997166893262, 0.9726343963632099, 0.9670809339796657, 0.973809586521451, 0.9722644743831185, 0.9833198816249663, 0.9844575584985934, 0.9685328052857045, 0.918858193043703, 0.9282874415630497, 0.9681598690073266, 0.601324799959188, 0.9270140131709771, 0.9609491337374051, 0.9667604837096362, 0.9840683484751281, 0.7211346858000119]}, {\"categories\": [\"0\", \"1\", \"2\", \"3\", \"4\", \"5\", \"6\", \"7\", \"8\", \"9\", \"10\", \"11\", \"12\", \"13\", \"14\", \"15\", \"16\", \"17\", \"18\", \"19\", \"20\", \"21\", \"22\", \"23\", \"24\", \"25\", \"26\", \"27\", \"28\", \"29\", \"30\", \"31\", \"32\", \"33\", \"36\", \"37\"], \"mode\": \"lines\", \"name\": \"precision_score_weighted_max\", \"stepped\": true, \"type\": \"scatter\", \"data\": [0.9620267532032237, 0.9717365447517098, 0.9717365447517098, 0.979176818159869, 0.9834854411125598, 0.9834854411125598, 0.9834854411125598, 0.9834854411125598, 0.9834854411125598, 0.9834854411125598, 0.9834854411125598, 0.9834854411125598, 0.9834854411125598, 0.9845126624787642, 0.9845126624787642, 0.9845126624787642, 0.9845126624787642, 0.9845126624787642, 0.9845126624787642, 0.9845126624787642, 0.9845126624787642, 0.9845126624787642, 0.9845126624787642, 0.9845126624787642, 0.9845126624787642, 0.9845126624787642, 0.9845126624787642, 0.9845126624787642, 0.9845126624787642, 0.9845126624787642, 0.9845126624787642, 0.9845126624787642, 0.9845126624787642, 0.9845126624787642, 0.9845126624787642, 0.9845126624787642]}], \"AUC_micro\": [{\"categories\": [\"0\", \"1\", \"2\", \"3\", \"4\", \"5\", \"6\", \"7\", \"8\", \"9\", \"10\", \"11\", \"12\", \"13\", \"14\", \"15\", \"16\", \"17\", \"18\", \"19\", \"20\", \"21\", \"22\", \"23\", \"24\", \"25\", \"26\", \"27\", \"28\", \"29\", \"30\", \"31\", \"32\", \"33\", \"36\", \"37\"], \"mode\": \"markers\", \"name\": \"AUC_micro\", \"stepped\": false, \"type\": \"scatter\", \"data\": [0.9978454467107153, 0.9975102939768266, 0.9946136167767884, 0.9982284784065881, 0.998611510102461, 0.9973187781288902, 0.9987551469884132, 0.9939433113090109, 0.9983242363305562, 0.9677295796227137, 0.9986593890644451, 0.9981327204826199, 0.9977496887867471, 0.9994733314181747, 0.9932490663602414, 0.9386670496983625, 0.9983242363305563, 0.9950205879536531, 0.9985157521784928, 0.994972708991669, 0.9980848415206358, 0.9957387723834148, 0.9979890835966675, 0.9984678732165087, 0.9993775734942068, 0.9995690893421431, 0.9981327204826199, 0.9851096428229437, 0.9934405822081778, 0.9987072680264292, 0.7580676050943215, 0.9824762999138179, 0.9924830029684957, 0.997223020204922, 0.9997127262280953, 0.9443646461744709]}, {\"categories\": [\"0\", \"1\", \"2\", \"3\", \"4\", \"5\", \"6\", \"7\", \"8\", \"9\", \"10\", \"11\", \"12\", \"13\", \"14\", \"15\", \"16\", \"17\", \"18\", \"19\", \"20\", \"21\", \"22\", \"23\", \"24\", \"25\", \"26\", \"27\", \"28\", \"29\", \"30\", \"31\", \"32\", \"33\", \"36\", \"37\"], \"mode\": \"lines\", \"name\": \"AUC_micro_max\", \"stepped\": true, \"type\": \"scatter\", \"data\": [0.9978454467107153, 0.9978454467107153, 0.9978454467107153, 0.9982284784065881, 0.998611510102461, 0.998611510102461, 0.9987551469884132, 0.9987551469884132, 0.9987551469884132, 0.9987551469884132, 0.9987551469884132, 0.9987551469884132, 0.9987551469884132, 0.9994733314181747, 0.9994733314181747, 0.9994733314181747, 0.9994733314181747, 0.9994733314181747, 0.9994733314181747, 0.9994733314181747, 0.9994733314181747, 0.9994733314181747, 0.9994733314181747, 0.9994733314181747, 0.9994733314181747, 0.9995690893421431, 0.9995690893421431, 0.9995690893421431, 0.9995690893421431, 0.9995690893421431, 0.9995690893421431, 0.9995690893421431, 0.9995690893421431, 0.9995690893421431, 0.9997127262280953, 0.9997127262280953]}], \"norm_macro_recall\": [{\"categories\": [\"0\", \"1\", \"2\", \"3\", \"4\", \"5\", \"6\", \"7\", \"8\", \"9\", \"10\", \"11\", \"12\", \"13\", \"14\", \"15\", \"16\", \"17\", \"18\", \"19\", \"20\", \"21\", \"22\", \"23\", \"24\", \"25\", \"26\", \"27\", \"28\", \"29\", \"30\", \"31\", \"32\", \"33\", \"36\", \"37\"], \"mode\": \"markers\", \"name\": \"norm_macro_recall\", \"stepped\": false, \"type\": \"scatter\", \"data\": [0.9452564102564102, 0.9544444444444443, 0.895051731893837, 0.9702564102564102, 0.9766666666666666, 0.9598397435897436, 0.9662280701754385, 0.9278767311120252, 0.9683333333333333, 0.8104340619820495, 0.9457575757575757, 0.9683333333333333, 0.9754524886877829, 0.9766666666666666, 0.9251048951048949, 0.663323485510018, 0.9570075757575758, 0.9174358974358974, 0.9785897435897436, 0.9452564102564102, 0.9599999999999999, 0.9552564102564102, 0.9619230769230769, 0.9622639860139858, 0.9774242424242424, 0.9796037296037298, 0.9546356275303644, 0.870248029833943, 0.896049808035102, 0.9543473193473192, 0.4173358585858586, 0.8970817997791679, 0.9371794871794871, 0.9515470494417863, 0.9785897435897436, 0.6583333333333333]}, {\"categories\": [\"0\", \"1\", \"2\", \"3\", \"4\", \"5\", \"6\", \"7\", \"8\", \"9\", \"10\", \"11\", \"12\", \"13\", \"14\", \"15\", \"16\", \"17\", \"18\", \"19\", \"20\", \"21\", \"22\", \"23\", \"24\", \"25\", \"26\", \"27\", \"28\", \"29\", \"30\", \"31\", \"32\", \"33\", \"36\", \"37\"], \"mode\": \"lines\", \"name\": \"norm_macro_recall_max\", \"stepped\": true, \"type\": \"scatter\", \"data\": [0.9452564102564102, 0.9544444444444443, 0.9544444444444443, 0.9702564102564102, 0.9766666666666666, 0.9766666666666666, 0.9766666666666666, 0.9766666666666666, 0.9766666666666666, 0.9766666666666666, 0.9766666666666666, 0.9766666666666666, 0.9766666666666666, 0.9766666666666666, 0.9766666666666666, 0.9766666666666666, 0.9766666666666666, 0.9766666666666666, 0.9785897435897436, 0.9785897435897436, 0.9785897435897436, 0.9785897435897436, 0.9785897435897436, 0.9785897435897436, 0.9785897435897436, 0.9796037296037298, 0.9796037296037298, 0.9796037296037298, 0.9796037296037298, 0.9796037296037298, 0.9796037296037298, 0.9796037296037298, 0.9796037296037298, 0.9796037296037298, 0.9796037296037298, 0.9796037296037298]}], \"f1_score_macro\": [{\"categories\": [\"0\", \"1\", \"2\", \"3\", \"4\", \"5\", \"6\", \"7\", \"8\", \"9\", \"10\", \"11\", \"12\", \"13\", \"14\", \"15\", \"16\", \"17\", \"18\", \"19\", \"20\", \"21\", \"22\", \"23\", \"24\", \"25\", \"26\", \"27\", \"28\", \"29\", \"30\", \"31\", \"32\", \"33\", \"36\", \"37\"], \"mode\": \"markers\", \"name\": \"f1_score_macro\", \"stepped\": false, \"type\": \"scatter\", \"data\": [0.9594887010013061, 0.9693447293447294, 0.9303243131503508, 0.976795770939955, 0.9821768707482993, 0.9708486618549738, 0.9770470579199718, 0.9504014960542938, 0.9765270348659052, 0.8672747251266882, 0.9610273388340507, 0.9760133901945749, 0.9834925423160717, 0.9821490233520308, 0.9455776371483142, 0.763852211249775, 0.9727957589914755, 0.9368498173680248, 0.9823756994980606, 0.9587696758920371, 0.9704809643155508, 0.966151970759814, 0.9707857122983173, 0.9726699925778267, 0.9849460205557766, 0.9846200874837446, 0.9656577500015363, 0.9165600647743505, 0.9286044986841094, 0.9660248622218526, 0.5465243703688204, 0.9294938724752049, 0.9539018570391119, 0.9658324859175681, 0.9823756994980606, 0.727245202854959]}, {\"categories\": [\"0\", \"1\", \"2\", \"3\", \"4\", \"5\", \"6\", \"7\", \"8\", \"9\", \"10\", \"11\", \"12\", \"13\", \"14\", \"15\", \"16\", \"17\", \"18\", \"19\", \"20\", \"21\", \"22\", \"23\", \"24\", \"25\", \"26\", \"27\", \"28\", \"29\", \"30\", \"31\", \"32\", \"33\", \"36\", \"37\"], \"mode\": \"lines\", \"name\": \"f1_score_macro_max\", \"stepped\": true, \"type\": \"scatter\", \"data\": [0.9594887010013061, 0.9693447293447294, 0.9693447293447294, 0.976795770939955, 0.9821768707482993, 0.9821768707482993, 0.9821768707482993, 0.9821768707482993, 0.9821768707482993, 0.9821768707482993, 0.9821768707482993, 0.9821768707482993, 0.9834925423160717, 0.9834925423160717, 0.9834925423160717, 0.9834925423160717, 0.9834925423160717, 0.9834925423160717, 0.9834925423160717, 0.9834925423160717, 0.9834925423160717, 0.9834925423160717, 0.9834925423160717, 0.9834925423160717, 0.9849460205557766, 0.9849460205557766, 0.9849460205557766, 0.9849460205557766, 0.9849460205557766, 0.9849460205557766, 0.9849460205557766, 0.9849460205557766, 0.9849460205557766, 0.9849460205557766, 0.9849460205557766, 0.9849460205557766]}], \"precision_score_micro\": [{\"categories\": [\"0\", \"1\", \"2\", \"3\", \"4\", \"5\", \"6\", \"7\", \"8\", \"9\", \"10\", \"11\", \"12\", \"13\", \"14\", \"15\", \"16\", \"17\", \"18\", \"19\", \"20\", \"21\", \"22\", \"23\", \"24\", \"25\", \"26\", \"27\", \"28\", \"29\", \"30\", \"31\", \"32\", \"33\", \"36\", \"37\"], \"mode\": \"markers\", \"name\": \"precision_score_micro\", \"stepped\": false, \"type\": \"scatter\", \"data\": [0.9604519774011301, 0.9717514124293786, 0.9322033898305085, 0.9774011299435029, 0.9830508474576272, 0.9717514124293786, 0.9774011299435029, 0.9491525423728814, 0.9774011299435029, 0.8700564971751413, 0.9604519774011299, 0.9774011299435029, 0.9830508474576272, 0.9830508474576272, 0.943502824858757, 0.768361581920904, 0.9717514124293786, 0.9378531073446328, 0.9830508474576272, 0.9604519774011301, 0.9717514124293786, 0.9661016949152543, 0.9717514124293786, 0.9717514124293786, 0.9830508474576272, 0.9830508474576272, 0.9661016949152543, 0.9152542372881357, 0.9265536723163842, 0.9661016949152543, 0.6214689265536723, 0.9265536723163842, 0.9548022598870056, 0.9661016949152542, 0.9830508474576272, 0.8022598870056497]}, {\"categories\": [\"0\", \"1\", \"2\", \"3\", \"4\", \"5\", \"6\", \"7\", \"8\", \"9\", \"10\", \"11\", \"12\", \"13\", \"14\", \"15\", \"16\", \"17\", \"18\", \"19\", \"20\", \"21\", \"22\", \"23\", \"24\", \"25\", \"26\", \"27\", \"28\", \"29\", \"30\", \"31\", \"32\", \"33\", \"36\", \"37\"], \"mode\": \"lines\", \"name\": \"precision_score_micro_max\", \"stepped\": true, \"type\": \"scatter\", \"data\": [0.9604519774011301, 0.9717514124293786, 0.9717514124293786, 0.9774011299435029, 0.9830508474576272, 0.9830508474576272, 0.9830508474576272, 0.9830508474576272, 0.9830508474576272, 0.9830508474576272, 0.9830508474576272, 0.9830508474576272, 0.9830508474576272, 0.9830508474576272, 0.9830508474576272, 0.9830508474576272, 0.9830508474576272, 0.9830508474576272, 0.9830508474576272, 0.9830508474576272, 0.9830508474576272, 0.9830508474576272, 0.9830508474576272, 0.9830508474576272, 0.9830508474576272, 0.9830508474576272, 0.9830508474576272, 0.9830508474576272, 0.9830508474576272, 0.9830508474576272, 0.9830508474576272, 0.9830508474576272, 0.9830508474576272, 0.9830508474576272, 0.9830508474576272, 0.9830508474576272]}], \"matthews_correlation\": [{\"categories\": [\"0\", \"1\", \"2\", \"3\", \"4\", \"5\", \"6\", \"7\", \"8\", \"9\", \"10\", \"11\", \"12\", \"13\", \"14\", \"15\", \"16\", \"17\", \"18\", \"19\", \"20\", \"21\", \"22\", \"23\", \"24\", \"25\", \"26\", \"27\", \"28\", \"29\", \"30\", \"31\", \"32\", \"33\", \"36\", \"37\"], \"mode\": \"markers\", \"name\": \"matthews_correlation\", \"stepped\": false, \"type\": \"scatter\", \"data\": [0.9413657080839246, 0.9570585443364493, 0.8983400469091642, 0.9664442036672439, 0.9744196840443347, 0.9575647821261722, 0.9664942157154527, 0.9250182902848757, 0.9671441168237774, 0.8097283681780816, 0.9403081469631379, 0.9668963856610597, 0.9742625368731564, 0.9749665804081779, 0.9155556684409979, 0.6558125254594086, 0.9584853604130279, 0.9107184496857404, 0.9745144336723328, 0.943200915107859, 0.9580117249300911, 0.949090128952558, 0.9583637485147202, 0.9565421331734028, 0.9740090040387149, 0.9746028381412177, 0.9496157890206841, 0.8726440506667427, 0.8891188602945596, 0.9495585346873945, 0.5131389143576, 0.8888682065476613, 0.9359822973987728, 0.9487751045573716, 0.9745144336723328, 0.6583297700470933]}, {\"categories\": [\"0\", \"1\", \"2\", \"3\", \"4\", \"5\", \"6\", \"7\", \"8\", \"9\", \"10\", \"11\", \"12\", \"13\", \"14\", \"15\", \"16\", \"17\", \"18\", \"19\", \"20\", \"21\", \"22\", \"23\", \"24\", \"25\", \"26\", \"27\", \"28\", \"29\", \"30\", \"31\", \"32\", \"33\", \"36\", \"37\"], \"mode\": \"lines\", \"name\": \"matthews_correlation_max\", \"stepped\": true, \"type\": \"scatter\", \"data\": [0.9413657080839246, 0.9570585443364493, 0.9570585443364493, 0.9664442036672439, 0.9744196840443347, 0.9744196840443347, 0.9744196840443347, 0.9744196840443347, 0.9744196840443347, 0.9744196840443347, 0.9744196840443347, 0.9744196840443347, 0.9744196840443347, 0.9749665804081779, 0.9749665804081779, 0.9749665804081779, 0.9749665804081779, 0.9749665804081779, 0.9749665804081779, 0.9749665804081779, 0.9749665804081779, 0.9749665804081779, 0.9749665804081779, 0.9749665804081779, 0.9749665804081779, 0.9749665804081779, 0.9749665804081779, 0.9749665804081779, 0.9749665804081779, 0.9749665804081779, 0.9749665804081779, 0.9749665804081779, 0.9749665804081779, 0.9749665804081779, 0.9749665804081779, 0.9749665804081779]}], \"precision_score_macro\": [{\"categories\": [\"0\", \"1\", \"2\", \"3\", \"4\", \"5\", \"6\", \"7\", \"8\", \"9\", \"10\", \"11\", \"12\", \"13\", \"14\", \"15\", \"16\", \"17\", \"18\", \"19\", \"20\", \"21\", \"22\", \"23\", \"24\", \"25\", \"26\", \"27\", \"28\", \"29\", \"30\", \"31\", \"32\", \"33\", \"36\", \"37\"], \"mode\": \"markers\", \"name\": \"precision_score_macro\", \"stepped\": false, \"type\": \"scatter\", \"data\": [0.9580371335273297, 0.9693372319688108, 0.9320580653913987, 0.9751791418458086, 0.9803418803418804, 0.9701600868267536, 0.9774250440917108, 0.9544430732666028, 0.976960237829803, 0.8764016140078109, 0.9594624511291179, 0.9755799755799757, 0.9836349924585219, 0.9813519813519814, 0.9454773621440288, 0.7659700382475991, 0.9771185157658587, 0.9392896903328993, 0.9799891466558134, 0.9606654751582289, 0.9691425858092525, 0.9634901697449371, 0.969623586290253, 0.9713265129931797, 0.9852140452140453, 0.9840305892937472, 0.9638840691472271, 0.9250810610555079, 0.9287067709531477, 0.9651791418458086, 0.5725621184561087, 0.9288170002300437, 0.9588794119686569, 0.9646981413648081, 0.9799891466558134, 0.7084566406600304]}, {\"categories\": [\"0\", \"1\", \"2\", \"3\", \"4\", \"5\", \"6\", \"7\", \"8\", \"9\", \"10\", \"11\", \"12\", \"13\", \"14\", \"15\", \"16\", \"17\", \"18\", \"19\", \"20\", \"21\", \"22\", \"23\", \"24\", \"25\", \"26\", \"27\", \"28\", \"29\", \"30\", \"31\", \"32\", \"33\", \"36\", \"37\"], \"mode\": \"lines\", \"name\": \"precision_score_macro_max\", \"stepped\": true, \"type\": \"scatter\", \"data\": [0.9580371335273297, 0.9693372319688108, 0.9693372319688108, 0.9751791418458086, 0.9803418803418804, 0.9803418803418804, 0.9803418803418804, 0.9803418803418804, 0.9803418803418804, 0.9803418803418804, 0.9803418803418804, 0.9803418803418804, 0.9836349924585219, 0.9836349924585219, 0.9836349924585219, 0.9836349924585219, 0.9836349924585219, 0.9836349924585219, 0.9836349924585219, 0.9836349924585219, 0.9836349924585219, 0.9836349924585219, 0.9836349924585219, 0.9836349924585219, 0.9852140452140453, 0.9852140452140453, 0.9852140452140453, 0.9852140452140453, 0.9852140452140453, 0.9852140452140453, 0.9852140452140453, 0.9852140452140453, 0.9852140452140453, 0.9852140452140453, 0.9852140452140453, 0.9852140452140453]}], \"weighted_accuracy\": [{\"categories\": [\"0\", \"1\", \"2\", \"3\", \"4\", \"5\", \"6\", \"7\", \"8\", \"9\", \"10\", \"11\", \"12\", \"13\", \"14\", \"15\", \"16\", \"17\", \"18\", \"19\", \"20\", \"21\", \"22\", \"23\", \"24\", \"25\", \"26\", \"27\", \"28\", \"29\", \"30\", \"31\", \"32\", \"33\", \"36\", \"37\"], \"mode\": \"markers\", \"name\": \"weighted_accuracy\", \"stepped\": false, \"type\": \"scatter\", \"data\": [0.9575404065032057, 0.9729304277829679, 0.9331492181087261, 0.9747669353576418, 0.9818649424556488, 0.9703989309896374, 0.9773184036749929, 0.9470467814844411, 0.9761227661708368, 0.8677778434393567, 0.9578772645335376, 0.9761227661708368, 0.9825188119761764, 0.9818649424556488, 0.9382759320830432, 0.7615654925862367, 0.9725528463997998, 0.9309515110476524, 0.9805091116424537, 0.9575404065032057, 0.9703805898860249, 0.9623740540981025, 0.9690247590728299, 0.9693799582067738, 0.9817544983627008, 0.9799513654262256, 0.9625009696033038, 0.9182929303755599, 0.9231878887588905, 0.9631721386950698, 0.635510187846596, 0.9223738259293238, 0.9513509280951142, 0.9651021871367461, 0.9805091116424537, 0.8271921147500377]}, {\"categories\": [\"0\", \"1\", \"2\", \"3\", \"4\", \"5\", \"6\", \"7\", \"8\", \"9\", \"10\", \"11\", \"12\", \"13\", \"14\", \"15\", \"16\", \"17\", \"18\", \"19\", \"20\", \"21\", \"22\", \"23\", \"24\", \"25\", \"26\", \"27\", \"28\", \"29\", \"30\", \"31\", \"32\", \"33\", \"36\", \"37\"], \"mode\": \"lines\", \"name\": \"weighted_accuracy_max\", \"stepped\": true, \"type\": \"scatter\", \"data\": [0.9575404065032057, 0.9729304277829679, 0.9729304277829679, 0.9747669353576418, 0.9818649424556488, 0.9818649424556488, 0.9818649424556488, 0.9818649424556488, 0.9818649424556488, 0.9818649424556488, 0.9818649424556488, 0.9818649424556488, 0.9825188119761764, 0.9825188119761764, 0.9825188119761764, 0.9825188119761764, 0.9825188119761764, 0.9825188119761764, 0.9825188119761764, 0.9825188119761764, 0.9825188119761764, 0.9825188119761764, 0.9825188119761764, 0.9825188119761764, 0.9825188119761764, 0.9825188119761764, 0.9825188119761764, 0.9825188119761764, 0.9825188119761764, 0.9825188119761764, 0.9825188119761764, 0.9825188119761764, 0.9825188119761764, 0.9825188119761764, 0.9825188119761764, 0.9825188119761764]}], \"AUC_weighted\": [{\"categories\": [\"0\", \"1\", \"2\", \"3\", \"4\", \"5\", \"6\", \"7\", \"8\", \"9\", \"10\", \"11\", \"12\", \"13\", \"14\", \"15\", \"16\", \"17\", \"18\", \"19\", \"20\", \"21\", \"22\", \"23\", \"24\", \"25\", \"26\", \"27\", \"28\", \"29\", \"30\", \"31\", \"32\", \"33\", \"36\", \"37\"], \"mode\": \"markers\", \"name\": \"AUC_weighted\", \"stepped\": false, \"type\": \"scatter\", \"data\": [0.9985585977111402, 0.9983957837344485, 0.9938654123100782, 0.999275677241779, 0.9991308126901347, 0.9981338462648615, 0.999138055917717, 0.994274691159038, 0.9985513544835579, 0.9660637159311349, 0.9989568140116495, 0.9989859481384905, 0.9979286250472691, 1.0, 0.9917076988861635, 0.9300260089097311, 0.9991308126901348, 0.9985118459694732, 0.9995654063450674, 0.9971545901755273, 0.9986323082035944, 0.9968765806004093, 1.0, 0.9978971085651045, 0.999196105377561, 0.9998338318378198, 0.9986222374058863, 0.9875877235058413, 0.9925697169547015, 0.9998338318378198, 0.8029277794045712, 0.9817638072646303, 0.9942714535934876, 0.9969478317185195, 1.0, 0.9995014955134596]}, {\"categories\": [\"0\", \"1\", \"2\", \"3\", \"4\", \"5\", \"6\", \"7\", \"8\", \"9\", \"10\", \"11\", \"12\", \"13\", \"14\", \"15\", \"16\", \"17\", \"18\", \"19\", \"20\", \"21\", \"22\", \"23\", \"24\", \"25\", \"26\", \"27\", \"28\", \"29\", \"30\", \"31\", \"32\", \"33\", \"36\", \"37\"], \"mode\": \"lines\", \"name\": \"AUC_weighted_max\", \"stepped\": true, \"type\": \"scatter\", \"data\": [0.9985585977111402, 0.9985585977111402, 0.9985585977111402, 0.999275677241779, 0.999275677241779, 0.999275677241779, 0.999275677241779, 0.999275677241779, 0.999275677241779, 0.999275677241779, 0.999275677241779, 0.999275677241779, 0.999275677241779, 1.0, 1.0, 1.0, 1.0, 1.0, 1.0, 1.0, 1.0, 1.0, 1.0, 1.0, 1.0, 1.0, 1.0, 1.0, 1.0, 1.0, 1.0, 1.0, 1.0, 1.0, 1.0, 1.0]}], \"recall_score_weighted\": [{\"categories\": [\"0\", \"1\", \"2\", \"3\", \"4\", \"5\", \"6\", \"7\", \"8\", \"9\", \"10\", \"11\", \"12\", \"13\", \"14\", \"15\", \"16\", \"17\", \"18\", \"19\", \"20\", \"21\", \"22\", \"23\", \"24\", \"25\", \"26\", \"27\", \"28\", \"29\", \"30\", \"31\", \"32\", \"33\", \"36\", \"37\"], \"mode\": \"markers\", \"name\": \"recall_score_weighted\", \"stepped\": false, \"type\": \"scatter\", \"data\": [0.9604519774011301, 0.9717514124293786, 0.9322033898305085, 0.9774011299435029, 0.9830508474576272, 0.9717514124293786, 0.9774011299435029, 0.9491525423728814, 0.9774011299435029, 0.8700564971751413, 0.9604519774011299, 0.9774011299435029, 0.9830508474576272, 0.9830508474576272, 0.943502824858757, 0.768361581920904, 0.9717514124293786, 0.9378531073446328, 0.9830508474576272, 0.9604519774011301, 0.9717514124293786, 0.9661016949152543, 0.9717514124293786, 0.9717514124293786, 0.9830508474576272, 0.9830508474576272, 0.9661016949152543, 0.9152542372881357, 0.9265536723163842, 0.9661016949152543, 0.6214689265536723, 0.9265536723163842, 0.9548022598870056, 0.9661016949152542, 0.9830508474576272, 0.8022598870056497]}, {\"categories\": [\"0\", \"1\", \"2\", \"3\", \"4\", \"5\", \"6\", \"7\", \"8\", \"9\", \"10\", \"11\", \"12\", \"13\", \"14\", \"15\", \"16\", \"17\", \"18\", \"19\", \"20\", \"21\", \"22\", \"23\", \"24\", \"25\", \"26\", \"27\", \"28\", \"29\", \"30\", \"31\", \"32\", \"33\", \"36\", \"37\"], \"mode\": \"lines\", \"name\": \"recall_score_weighted_max\", \"stepped\": true, \"type\": \"scatter\", \"data\": [0.9604519774011301, 0.9717514124293786, 0.9717514124293786, 0.9774011299435029, 0.9830508474576272, 0.9830508474576272, 0.9830508474576272, 0.9830508474576272, 0.9830508474576272, 0.9830508474576272, 0.9830508474576272, 0.9830508474576272, 0.9830508474576272, 0.9830508474576272, 0.9830508474576272, 0.9830508474576272, 0.9830508474576272, 0.9830508474576272, 0.9830508474576272, 0.9830508474576272, 0.9830508474576272, 0.9830508474576272, 0.9830508474576272, 0.9830508474576272, 0.9830508474576272, 0.9830508474576272, 0.9830508474576272, 0.9830508474576272, 0.9830508474576272, 0.9830508474576272, 0.9830508474576272, 0.9830508474576272, 0.9830508474576272, 0.9830508474576272, 0.9830508474576272, 0.9830508474576272]}], \"AUC_macro\": [{\"categories\": [\"0\", \"1\", \"2\", \"3\", \"4\", \"5\", \"6\", \"7\", \"8\", \"9\", \"10\", \"11\", \"12\", \"13\", \"14\", \"15\", \"16\", \"17\", \"18\", \"19\", \"20\", \"21\", \"22\", \"23\", \"24\", \"25\", \"26\", \"27\", \"28\", \"29\", \"30\", \"31\", \"32\", \"33\", \"36\", \"37\"], \"mode\": \"markers\", \"name\": \"AUC_macro\", \"stepped\": false, \"type\": \"scatter\", \"data\": [0.9985680011995801, 0.9983944580598293, 0.9939126158785602, 0.9992877492877493, 0.9991452991452991, 0.9982611637822366, 0.9991378017693807, 0.9945748238317899, 0.9985754985754985, 0.9667001694490002, 0.9990205301970008, 0.999002849002849, 0.9979784920961392, 1.0, 0.9923301205034951, 0.929709481288509, 0.9991452991452991, 0.9988085988085987, 0.9995726495726496, 0.997300436062046, 0.9987531422825541, 0.9970506242487667, 1.0, 0.9982741853330088, 0.9993348428642546, 0.9998692810457516, 0.9987555799320504, 0.9876941596548838, 0.9929523343716231, 0.9998692810457516, 0.7975197966773804, 0.9821588653209, 0.9944111043182251, 0.9969982711933176, 1.0, 0.9996078431372549]}, {\"categories\": [\"0\", \"1\", \"2\", \"3\", \"4\", \"5\", \"6\", \"7\", \"8\", \"9\", \"10\", \"11\", \"12\", \"13\", \"14\", \"15\", \"16\", \"17\", \"18\", \"19\", \"20\", \"21\", \"22\", \"23\", \"24\", \"25\", \"26\", \"27\", \"28\", \"29\", \"30\", \"31\", \"32\", \"33\", \"36\", \"37\"], \"mode\": \"lines\", \"name\": \"AUC_macro_max\", \"stepped\": true, \"type\": \"scatter\", \"data\": [0.9985680011995801, 0.9985680011995801, 0.9985680011995801, 0.9992877492877493, 0.9992877492877493, 0.9992877492877493, 0.9992877492877493, 0.9992877492877493, 0.9992877492877493, 0.9992877492877493, 0.9992877492877493, 0.9992877492877493, 0.9992877492877493, 1.0, 1.0, 1.0, 1.0, 1.0, 1.0, 1.0, 1.0, 1.0, 1.0, 1.0, 1.0, 1.0, 1.0, 1.0, 1.0, 1.0, 1.0, 1.0, 1.0, 1.0, 1.0, 1.0]}], \"average_precision_score_weighted\": [{\"categories\": [\"0\", \"1\", \"2\", \"3\", \"4\", \"5\", \"6\", \"7\", \"8\", \"9\", \"10\", \"11\", \"12\", \"13\", \"14\", \"15\", \"16\", \"17\", \"18\", \"19\", \"20\", \"21\", \"22\", \"23\", \"24\", \"25\", \"26\", \"27\", \"28\", \"29\", \"30\", \"31\", \"32\", \"33\", \"36\", \"37\"], \"mode\": \"markers\", \"name\": \"average_precision_score_weighted\", \"stepped\": false, \"type\": \"scatter\", \"data\": [0.9972759175877511, 0.9970092651533912, 0.9883981782480794, 0.9987893462469734, 0.9985261606484893, 0.9968260154579931, 0.9983857949959645, 0.9908797729409237, 0.9974277481142471, 0.9454952247809082, 0.9983264095275887, 0.9983185364541297, 0.9962720244749157, 1.0, 0.9885571667599288, 0.8767952970402013, 0.9984078068823831, 0.9978637930480231, 0.9992173551495586, 0.9953965657125243, 0.9977183156487349, 0.9944330647685952, 1.0, 0.9971000349396321, 0.9988504997827032, 0.9997827031725337, 0.9977380908097531, 0.9795163895112867, 0.9886568012405451, 0.9997827031725337, 0.686798225210186, 0.9764686531232925, 0.9900772120941412, 0.9947976563664284, 1.0, 0.9993946731234867]}, {\"categories\": [\"0\", \"1\", \"2\", \"3\", \"4\", \"5\", \"6\", \"7\", \"8\", \"9\", \"10\", \"11\", \"12\", \"13\", \"14\", \"15\", \"16\", \"17\", \"18\", \"19\", \"20\", \"21\", \"22\", \"23\", \"24\", \"25\", \"26\", \"27\", \"28\", \"29\", \"30\", \"31\", \"32\", \"33\", \"36\", \"37\"], \"mode\": \"lines\", \"name\": \"average_precision_score_weighted_max\", \"stepped\": true, \"type\": \"scatter\", \"data\": [0.9972759175877511, 0.9972759175877511, 0.9972759175877511, 0.9987893462469734, 0.9987893462469734, 0.9987893462469734, 0.9987893462469734, 0.9987893462469734, 0.9987893462469734, 0.9987893462469734, 0.9987893462469734, 0.9987893462469734, 0.9987893462469734, 1.0, 1.0, 1.0, 1.0, 1.0, 1.0, 1.0, 1.0, 1.0, 1.0, 1.0, 1.0, 1.0, 1.0, 1.0, 1.0, 1.0, 1.0, 1.0, 1.0, 1.0, 1.0, 1.0]}], \"average_precision_score_macro\": [{\"categories\": [\"0\", \"1\", \"2\", \"3\", \"4\", \"5\", \"6\", \"7\", \"8\", \"9\", \"10\", \"11\", \"12\", \"13\", \"14\", \"15\", \"16\", \"17\", \"18\", \"19\", \"20\", \"21\", \"22\", \"23\", \"24\", \"25\", \"26\", \"27\", \"28\", \"29\", \"30\", \"31\", \"32\", \"33\", \"36\", \"37\"], \"mode\": \"markers\", \"name\": \"average_precision_score_macro\", \"stepped\": false, \"type\": \"scatter\", \"data\": [0.9972913097276782, 0.9968313807028369, 0.9884745672159859, 0.9988095238095238, 0.9985507246376811, 0.9965584241989385, 0.9983848510164299, 0.9912182570528892, 0.9974706189790096, 0.9439295503725722, 0.9984189964624747, 0.9983465608465608, 0.9961737346339422, 1.0, 0.9892103566878219, 0.8670685970729911, 0.9984343434343436, 0.9982589985265572, 0.9992303992303992, 0.9954579228454598, 0.9978753913403037, 0.9946777279877197, 1.0, 0.9976186707191538, 0.9990452214452215, 0.9998290598290599, 0.9979153173845031, 0.979363910767095, 0.9891027368737914, 0.9998290598290599, 0.6650725540864192, 0.9767880386087016, 0.9900489122774849, 0.9948454745424414, 1.0, 0.9995238095238096]}, {\"categories\": [\"0\", \"1\", \"2\", \"3\", \"4\", \"5\", \"6\", \"7\", \"8\", \"9\", \"10\", \"11\", \"12\", \"13\", \"14\", \"15\", \"16\", \"17\", \"18\", \"19\", \"20\", \"21\", \"22\", \"23\", \"24\", \"25\", \"26\", \"27\", \"28\", \"29\", \"30\", \"31\", \"32\", \"33\", \"36\", \"37\"], \"mode\": \"lines\", \"name\": \"average_precision_score_macro_max\", \"stepped\": true, \"type\": \"scatter\", \"data\": [0.9972913097276782, 0.9972913097276782, 0.9972913097276782, 0.9988095238095238, 0.9988095238095238, 0.9988095238095238, 0.9988095238095238, 0.9988095238095238, 0.9988095238095238, 0.9988095238095238, 0.9988095238095238, 0.9988095238095238, 0.9988095238095238, 1.0, 1.0, 1.0, 1.0, 1.0, 1.0, 1.0, 1.0, 1.0, 1.0, 1.0, 1.0, 1.0, 1.0, 1.0, 1.0, 1.0, 1.0, 1.0, 1.0, 1.0, 1.0, 1.0]}], \"recall_score_macro\": [{\"categories\": [\"0\", \"1\", \"2\", \"3\", \"4\", \"5\", \"6\", \"7\", \"8\", \"9\", \"10\", \"11\", \"12\", \"13\", \"14\", \"15\", \"16\", \"17\", \"18\", \"19\", \"20\", \"21\", \"22\", \"23\", \"24\", \"25\", \"26\", \"27\", \"28\", \"29\", \"30\", \"31\", \"32\", \"33\", \"36\", \"37\"], \"mode\": \"markers\", \"name\": \"recall_score_macro\", \"stepped\": false, \"type\": \"scatter\", \"data\": [0.9635042735042735, 0.9696296296296296, 0.9300344879292247, 0.9801709401709403, 0.9844444444444446, 0.9732264957264958, 0.9774853801169591, 0.9519178207413502, 0.978888888888889, 0.8736227079880329, 0.9638383838383837, 0.978888888888889, 0.9836349924585219, 0.9844444444444446, 0.95006993006993, 0.775548990340012, 0.9713383838383839, 0.944957264957265, 0.9857264957264958, 0.9635042735042735, 0.9733333333333333, 0.9701709401709402, 0.9746153846153848, 0.9748426573426573, 0.984949494949495, 0.9864024864024864, 0.9697570850202429, 0.9134986865559621, 0.9306998720234013, 0.9695648795648797, 0.6115572390572391, 0.9313878665194455, 0.9581196581196582, 0.967698032961191, 0.9857264957264958, 0.7722222222222223]}, {\"categories\": [\"0\", \"1\", \"2\", \"3\", \"4\", \"5\", \"6\", \"7\", \"8\", \"9\", \"10\", \"11\", \"12\", \"13\", \"14\", \"15\", \"16\", \"17\", \"18\", \"19\", \"20\", \"21\", \"22\", \"23\", \"24\", \"25\", \"26\", \"27\", \"28\", \"29\", \"30\", \"31\", \"32\", \"33\", \"36\", \"37\"], \"mode\": \"lines\", \"name\": \"recall_score_macro_max\", \"stepped\": true, \"type\": \"scatter\", \"data\": [0.9635042735042735, 0.9696296296296296, 0.9696296296296296, 0.9801709401709403, 0.9844444444444446, 0.9844444444444446, 0.9844444444444446, 0.9844444444444446, 0.9844444444444446, 0.9844444444444446, 0.9844444444444446, 0.9844444444444446, 0.9844444444444446, 0.9844444444444446, 0.9844444444444446, 0.9844444444444446, 0.9844444444444446, 0.9844444444444446, 0.9857264957264958, 0.9857264957264958, 0.9857264957264958, 0.9857264957264958, 0.9857264957264958, 0.9857264957264958, 0.9857264957264958, 0.9864024864024864, 0.9864024864024864, 0.9864024864024864, 0.9864024864024864, 0.9864024864024864, 0.9864024864024864, 0.9864024864024864, 0.9864024864024864, 0.9864024864024864, 0.9864024864024864, 0.9864024864024864]}], \"f1_score_micro\": [{\"categories\": [\"0\", \"1\", \"2\", \"3\", \"4\", \"5\", \"6\", \"7\", \"8\", \"9\", \"10\", \"11\", \"12\", \"13\", \"14\", \"15\", \"16\", \"17\", \"18\", \"19\", \"20\", \"21\", \"22\", \"23\", \"24\", \"25\", \"26\", \"27\", \"28\", \"29\", \"30\", \"31\", \"32\", \"33\", \"36\", \"37\"], \"mode\": \"markers\", \"name\": \"f1_score_micro\", \"stepped\": false, \"type\": \"scatter\", \"data\": [0.9604519774011301, 0.9717514124293786, 0.9322033898305085, 0.9774011299435029, 0.9830508474576272, 0.9717514124293786, 0.9774011299435029, 0.9491525423728814, 0.9774011299435029, 0.8700564971751413, 0.9604519774011299, 0.9774011299435029, 0.9830508474576272, 0.9830508474576272, 0.943502824858757, 0.768361581920904, 0.9717514124293786, 0.9378531073446328, 0.9830508474576272, 0.9604519774011301, 0.9717514124293786, 0.9661016949152543, 0.9717514124293786, 0.9717514124293786, 0.9830508474576272, 0.9830508474576272, 0.9661016949152543, 0.9152542372881357, 0.9265536723163842, 0.9661016949152543, 0.6214689265536723, 0.9265536723163842, 0.9548022598870056, 0.9661016949152542, 0.9830508474576272, 0.8022598870056497]}, {\"categories\": [\"0\", \"1\", \"2\", \"3\", \"4\", \"5\", \"6\", \"7\", \"8\", \"9\", \"10\", \"11\", \"12\", \"13\", \"14\", \"15\", \"16\", \"17\", \"18\", \"19\", \"20\", \"21\", \"22\", \"23\", \"24\", \"25\", \"26\", \"27\", \"28\", \"29\", \"30\", \"31\", \"32\", \"33\", \"36\", \"37\"], \"mode\": \"lines\", \"name\": \"f1_score_micro_max\", \"stepped\": true, \"type\": \"scatter\", \"data\": [0.9604519774011301, 0.9717514124293786, 0.9717514124293786, 0.9774011299435029, 0.9830508474576272, 0.9830508474576272, 0.9830508474576272, 0.9830508474576272, 0.9830508474576272, 0.9830508474576272, 0.9830508474576272, 0.9830508474576272, 0.9830508474576272, 0.9830508474576272, 0.9830508474576272, 0.9830508474576272, 0.9830508474576272, 0.9830508474576272, 0.9830508474576272, 0.9830508474576272, 0.9830508474576272, 0.9830508474576272, 0.9830508474576272, 0.9830508474576272, 0.9830508474576272, 0.9830508474576272, 0.9830508474576272, 0.9830508474576272, 0.9830508474576272, 0.9830508474576272, 0.9830508474576272, 0.9830508474576272, 0.9830508474576272, 0.9830508474576272, 0.9830508474576272, 0.9830508474576272]}], \"average_precision_score_micro\": [{\"categories\": [\"0\", \"1\", \"2\", \"3\", \"4\", \"5\", \"6\", \"7\", \"8\", \"9\", \"10\", \"11\", \"12\", \"13\", \"14\", \"15\", \"16\", \"17\", \"18\", \"19\", \"20\", \"21\", \"22\", \"23\", \"24\", \"25\", \"26\", \"27\", \"28\", \"29\", \"30\", \"31\", \"32\", \"33\", \"36\", \"37\"], \"mode\": \"markers\", \"name\": \"average_precision_score_micro\", \"stepped\": false, \"type\": \"scatter\", \"data\": [0.9959429184549918, 0.9953284509950917, 0.9900057629941239, 0.99651068322116, 0.9974272451609233, 0.9946664715670588, 0.9974845834307828, 0.98874904208848, 0.9965867332732968, 0.9451827034727017, 0.9974843210587953, 0.99634152973267, 0.9957582563022392, 0.9989731739231438, 0.9885107376017781, 0.8913274237781305, 0.9965687649916126, 0.990479122033407, 0.9969409251166313, 0.9899922590533322, 0.9962751424651767, 0.9913986309253219, 0.9961537392014974, 0.99707100455337, 0.9987918045543328, 0.9991598991683267, 0.9964083249654426, 0.9737608455120587, 0.9884368450214637, 0.997445004400293, 0.6452704636033243, 0.975053416337096, 0.9857358961520388, 0.9949904346546637, 0.9994349235951185, 0.9124034263720538]}, {\"categories\": [\"0\", \"1\", \"2\", \"3\", \"4\", \"5\", \"6\", \"7\", \"8\", \"9\", \"10\", \"11\", \"12\", \"13\", \"14\", \"15\", \"16\", \"17\", \"18\", \"19\", \"20\", \"21\", \"22\", \"23\", \"24\", \"25\", \"26\", \"27\", \"28\", \"29\", \"30\", \"31\", \"32\", \"33\", \"36\", \"37\"], \"mode\": \"lines\", \"name\": \"average_precision_score_micro_max\", \"stepped\": true, \"type\": \"scatter\", \"data\": [0.9959429184549918, 0.9959429184549918, 0.9959429184549918, 0.99651068322116, 0.9974272451609233, 0.9974272451609233, 0.9974845834307828, 0.9974845834307828, 0.9974845834307828, 0.9974845834307828, 0.9974845834307828, 0.9974845834307828, 0.9974845834307828, 0.9989731739231438, 0.9989731739231438, 0.9989731739231438, 0.9989731739231438, 0.9989731739231438, 0.9989731739231438, 0.9989731739231438, 0.9989731739231438, 0.9989731739231438, 0.9989731739231438, 0.9989731739231438, 0.9989731739231438, 0.9991598991683267, 0.9991598991683267, 0.9991598991683267, 0.9991598991683267, 0.9991598991683267, 0.9991598991683267, 0.9991598991683267, 0.9991598991683267, 0.9991598991683267, 0.9994349235951185, 0.9994349235951185]}], \"log_loss\": [{\"categories\": [\"0\", \"1\", \"2\", \"3\", \"4\", \"5\", \"6\", \"7\", \"8\", \"9\", \"10\", \"11\", \"12\", \"13\", \"14\", \"15\", \"16\", \"17\", \"18\", \"19\", \"20\", \"21\", \"22\", \"23\", \"24\", \"25\", \"26\", \"27\", \"28\", \"29\", \"30\", \"31\", \"32\", \"33\", \"36\", \"37\"], \"mode\": \"markers\", \"name\": \"log_loss\", \"stepped\": false, \"type\": \"scatter\", \"data\": [0.08218070200112339, 0.08937306757609449, 0.17293384455381255, 0.2455643996858016, 0.16695544434767803, 0.2161746128314359, 0.1435891821307792, 0.250924299495779, 0.2594494324155652, 0.36721746020335205, 0.27932083662752816, 0.2686558701554247, 0.19206858315996822, 0.1772437903464179, 0.23648361286299066, 0.8050840029494127, 0.31462339932367805, 0.6667707446073257, 0.3095297407716158, 0.5337850158309744, 0.15943029731395317, 0.26781447012731624, 0.24303747829712408, 0.18854265917441607, 0.08904056558177949, 0.19528010113166638, 0.11679982737859773, 0.3459263835991521, 0.20638049442140224, 0.3245289921253041, 1.0257586105871486, 0.5536252145949785, 0.2173431557151763, 0.5142938732656569, 0.22582068611924888, 0.4137980735967081]}, {\"categories\": [\"0\", \"1\", \"2\", \"3\", \"4\", \"5\", \"6\", \"7\", \"8\", \"9\", \"10\", \"11\", \"12\", \"13\", \"14\", \"15\", \"16\", \"17\", \"18\", \"19\", \"20\", \"21\", \"22\", \"23\", \"24\", \"25\", \"26\", \"27\", \"28\", \"29\", \"30\", \"31\", \"32\", \"33\", \"36\", \"37\"], \"mode\": \"lines\", \"name\": \"log_loss_min\", \"stepped\": true, \"type\": \"scatter\", \"data\": [0.08218070200112339, 0.08218070200112339, 0.08218070200112339, 0.08218070200112339, 0.08218070200112339, 0.08218070200112339, 0.08218070200112339, 0.08218070200112339, 0.08218070200112339, 0.08218070200112339, 0.08218070200112339, 0.08218070200112339, 0.08218070200112339, 0.08218070200112339, 0.08218070200112339, 0.08218070200112339, 0.08218070200112339, 0.08218070200112339, 0.08218070200112339, 0.08218070200112339, 0.08218070200112339, 0.08218070200112339, 0.08218070200112339, 0.08218070200112339, 0.08218070200112339, 0.08218070200112339, 0.08218070200112339, 0.08218070200112339, 0.08218070200112339, 0.08218070200112339, 0.08218070200112339, 0.08218070200112339, 0.08218070200112339, 0.08218070200112339, 0.08218070200112339, 0.08218070200112339]}], \"recall_score_micro\": [{\"categories\": [\"0\", \"1\", \"2\", \"3\", \"4\", \"5\", \"6\", \"7\", \"8\", \"9\", \"10\", \"11\", \"12\", \"13\", \"14\", \"15\", \"16\", \"17\", \"18\", \"19\", \"20\", \"21\", \"22\", \"23\", \"24\", \"25\", \"26\", \"27\", \"28\", \"29\", \"30\", \"31\", \"32\", \"33\", \"36\", \"37\"], \"mode\": \"markers\", \"name\": \"recall_score_micro\", \"stepped\": false, \"type\": \"scatter\", \"data\": [0.9604519774011301, 0.9717514124293786, 0.9322033898305085, 0.9774011299435029, 0.9830508474576272, 0.9717514124293786, 0.9774011299435029, 0.9491525423728814, 0.9774011299435029, 0.8700564971751413, 0.9604519774011299, 0.9774011299435029, 0.9830508474576272, 0.9830508474576272, 0.943502824858757, 0.768361581920904, 0.9717514124293786, 0.9378531073446328, 0.9830508474576272, 0.9604519774011301, 0.9717514124293786, 0.9661016949152543, 0.9717514124293786, 0.9717514124293786, 0.9830508474576272, 0.9830508474576272, 0.9661016949152543, 0.9152542372881357, 0.9265536723163842, 0.9661016949152543, 0.6214689265536723, 0.9265536723163842, 0.9548022598870056, 0.9661016949152542, 0.9830508474576272, 0.8022598870056497]}, {\"categories\": [\"0\", \"1\", \"2\", \"3\", \"4\", \"5\", \"6\", \"7\", \"8\", \"9\", \"10\", \"11\", \"12\", \"13\", \"14\", \"15\", \"16\", \"17\", \"18\", \"19\", \"20\", \"21\", \"22\", \"23\", \"24\", \"25\", \"26\", \"27\", \"28\", \"29\", \"30\", \"31\", \"32\", \"33\", \"36\", \"37\"], \"mode\": \"lines\", \"name\": \"recall_score_micro_max\", \"stepped\": true, \"type\": \"scatter\", \"data\": [0.9604519774011301, 0.9717514124293786, 0.9717514124293786, 0.9774011299435029, 0.9830508474576272, 0.9830508474576272, 0.9830508474576272, 0.9830508474576272, 0.9830508474576272, 0.9830508474576272, 0.9830508474576272, 0.9830508474576272, 0.9830508474576272, 0.9830508474576272, 0.9830508474576272, 0.9830508474576272, 0.9830508474576272, 0.9830508474576272, 0.9830508474576272, 0.9830508474576272, 0.9830508474576272, 0.9830508474576272, 0.9830508474576272, 0.9830508474576272, 0.9830508474576272, 0.9830508474576272, 0.9830508474576272, 0.9830508474576272, 0.9830508474576272, 0.9830508474576272, 0.9830508474576272, 0.9830508474576272, 0.9830508474576272, 0.9830508474576272, 0.9830508474576272, 0.9830508474576272]}], \"balanced_accuracy\": [{\"categories\": [\"0\", \"1\", \"2\", \"3\", \"4\", \"5\", \"6\", \"7\", \"8\", \"9\", \"10\", \"11\", \"12\", \"13\", \"14\", \"15\", \"16\", \"17\", \"18\", \"19\", \"20\", \"21\", \"22\", \"23\", \"24\", \"25\", \"26\", \"27\", \"28\", \"29\", \"30\", \"31\", \"32\", \"33\", \"36\", \"37\"], \"mode\": \"markers\", \"name\": \"balanced_accuracy\", \"stepped\": false, \"type\": \"scatter\", \"data\": [0.9635042735042735, 0.9696296296296296, 0.9300344879292247, 0.9801709401709403, 0.9844444444444446, 0.9732264957264958, 0.9774853801169591, 0.9519178207413502, 0.978888888888889, 0.8736227079880329, 0.9638383838383837, 0.978888888888889, 0.9836349924585219, 0.9844444444444446, 0.95006993006993, 0.775548990340012, 0.9713383838383839, 0.944957264957265, 0.9857264957264958, 0.9635042735042735, 0.9733333333333333, 0.9701709401709402, 0.9746153846153848, 0.9748426573426573, 0.984949494949495, 0.9864024864024864, 0.9697570850202429, 0.9134986865559621, 0.9306998720234013, 0.9695648795648797, 0.6115572390572391, 0.9313878665194455, 0.9581196581196582, 0.967698032961191, 0.9857264957264958, 0.7722222222222223]}, {\"categories\": [\"0\", \"1\", \"2\", \"3\", \"4\", \"5\", \"6\", \"7\", \"8\", \"9\", \"10\", \"11\", \"12\", \"13\", \"14\", \"15\", \"16\", \"17\", \"18\", \"19\", \"20\", \"21\", \"22\", \"23\", \"24\", \"25\", \"26\", \"27\", \"28\", \"29\", \"30\", \"31\", \"32\", \"33\", \"36\", \"37\"], \"mode\": \"lines\", \"name\": \"balanced_accuracy_max\", \"stepped\": true, \"type\": \"scatter\", \"data\": [0.9635042735042735, 0.9696296296296296, 0.9696296296296296, 0.9801709401709403, 0.9844444444444446, 0.9844444444444446, 0.9844444444444446, 0.9844444444444446, 0.9844444444444446, 0.9844444444444446, 0.9844444444444446, 0.9844444444444446, 0.9844444444444446, 0.9844444444444446, 0.9844444444444446, 0.9844444444444446, 0.9844444444444446, 0.9844444444444446, 0.9857264957264958, 0.9857264957264958, 0.9857264957264958, 0.9857264957264958, 0.9857264957264958, 0.9857264957264958, 0.9857264957264958, 0.9864024864024864, 0.9864024864024864, 0.9864024864024864, 0.9864024864024864, 0.9864024864024864, 0.9864024864024864, 0.9864024864024864, 0.9864024864024864, 0.9864024864024864, 0.9864024864024864, 0.9864024864024864]}], \"f1_score_weighted\": [{\"categories\": [\"0\", \"1\", \"2\", \"3\", \"4\", \"5\", \"6\", \"7\", \"8\", \"9\", \"10\", \"11\", \"12\", \"13\", \"14\", \"15\", \"16\", \"17\", \"18\", \"19\", \"20\", \"21\", \"22\", \"23\", \"24\", \"25\", \"26\", \"27\", \"28\", \"29\", \"30\", \"31\", \"32\", \"33\", \"36\", \"37\"], \"mode\": \"markers\", \"name\": \"f1_score_weighted\", \"stepped\": false, \"type\": \"scatter\", \"data\": [0.9599979300363861, 0.9716065478777344, 0.9313882352808549, 0.9774534755918425, 0.9831061916291941, 0.9716403200916348, 0.9770926186582939, 0.9480239112318484, 0.97736059581659, 0.870068600624121, 0.9600764433665621, 0.9771207311790788, 0.9830508474576272, 0.9830778722431583, 0.9427863863381005, 0.7696453843759435, 0.9716074038743902, 0.9359927751275139, 0.9831279792102551, 0.9596599218438926, 0.9714945353699017, 0.9659225153193249, 0.9714864161011433, 0.9716810420176819, 0.9830473141758796, 0.9831284269499855, 0.9662066463625548, 0.9143721216360441, 0.9263723736189796, 0.9658286543760354, 0.5651477781404106, 0.9261533189231114, 0.9532442882991238, 0.9661266492561378, 0.9831279792102551, 0.7450865931643111]}, {\"categories\": [\"0\", \"1\", \"2\", \"3\", \"4\", \"5\", \"6\", \"7\", \"8\", \"9\", \"10\", \"11\", \"12\", \"13\", \"14\", \"15\", \"16\", \"17\", \"18\", \"19\", \"20\", \"21\", \"22\", \"23\", \"24\", \"25\", \"26\", \"27\", \"28\", \"29\", \"30\", \"31\", \"32\", \"33\", \"36\", \"37\"], \"mode\": \"lines\", \"name\": \"f1_score_weighted_max\", \"stepped\": true, \"type\": \"scatter\", \"data\": [0.9599979300363861, 0.9716065478777344, 0.9716065478777344, 0.9774534755918425, 0.9831061916291941, 0.9831061916291941, 0.9831061916291941, 0.9831061916291941, 0.9831061916291941, 0.9831061916291941, 0.9831061916291941, 0.9831061916291941, 0.9831061916291941, 0.9831061916291941, 0.9831061916291941, 0.9831061916291941, 0.9831061916291941, 0.9831061916291941, 0.9831279792102551, 0.9831279792102551, 0.9831279792102551, 0.9831279792102551, 0.9831279792102551, 0.9831279792102551, 0.9831279792102551, 0.9831284269499855, 0.9831284269499855, 0.9831284269499855, 0.9831284269499855, 0.9831284269499855, 0.9831284269499855, 0.9831284269499855, 0.9831284269499855, 0.9831284269499855, 0.9831284269499855, 0.9831284269499855]}]}, \"metricName\": null, \"primaryMetricName\": \"AUC_weighted\", \"showLegend\": false}, \"run_metrics\": [{\"name\": \"experiment_status\", \"run_id\": \"AutoML_a5282e99-6962-4b8a-9682-aa3257bcac67\", \"categories\": [0, 1, 2, 3, 4, 5, 6, 7, 8, 9, 10, 11, 12, 13], \"series\": [{\"data\": [\"DatasetEvaluation\", \"FeaturesGeneration\", \"DatasetFeaturization\", \"DatasetFeaturizationCompleted\", \"DatasetCrossValidationSplit\", \"ModelSelection\", \"BestRunExplainModel\", \"ModelExplanationDataSetSetup\", \"PickSurrogateModel\", \"EngineeredFeatureExplanations\", \"EngineeredFeatureExplanations\", \"RawFeaturesExplanations\", \"RawFeaturesExplanations\", \"BestRunExplainModel\"]}]}, {\"name\": \"experiment_status_description\", \"run_id\": \"AutoML_a5282e99-6962-4b8a-9682-aa3257bcac67\", \"categories\": [0, 1, 2, 3, 4, 5, 6, 7, 8, 9, 10, 11, 12, 13], \"series\": [{\"data\": [\"Gathering dataset statistics.\", \"Generating features for the dataset.\", \"Beginning to fit featurizers and featurize the dataset.\", \"Completed fit featurizers and featurizing the dataset.\", \"Generating individually featurized CV splits.\", \"Beginning model selection.\", \"Best run model explanations started\", \"Model explanations data setup completed\", \"Choosing LightGBM as the surrogate model for explanations\", \"Computation of engineered features started\", \"Computation of engineered features completed\", \"Computation of raw features started\", \"Computation of raw features completed\", \"Best run model explanations completed\"]}]}], \"run_logs\": \"\\nRun is completed.\", \"graph\": {}, \"widget_settings\": {\"childWidgetDisplay\": \"popup\", \"send_telemetry\": false, \"log_level\": \"INFO\", \"sdk_version\": \"1.20.0\"}, \"loading\": false}"
          },
          "metadata": {}
        }
      ],
      "execution_count": 17,
      "metadata": {
        "collapsed": false,
        "gather": {
          "logged": 1612482972993
        },
        "jupyter": {
          "outputs_hidden": false,
          "source_hidden": false
        },
        "nteract": {
          "transient": {
            "deleting": false
          }
        }
      }
    },
    {
      "cell_type": "markdown",
      "source": [
        "## Best Model\n",
        "\n",
        "This section demonstrates the best performing model, downloads and registers it."
      ],
      "metadata": {}
    },
    {
      "cell_type": "code",
      "source": [
        "# Retrieve the best automl model\n",
        "# source: https://docs.microsoft.com/en-us/azure/machine-learning/how-to-configure-auto-train\n",
        "best_automl_run, automl_model = remote_run.get_output()\n",
        "automl_model_name = best_automl_run.properties['model_name']\n",
        "print('Best AutoML model name: ' + automl_model_name,\n",
        "      'Best AutoML model run: ' + str(best_automl_run),\n",
        "      'Best AutoML model specification: ' + str(automl_model), sep = '\\n\\n')"
      ],
      "outputs": [
        {
          "output_type": "stream",
          "name": "stderr",
          "text": [
            "WARNING:root:The version of the SDK does not match the version the model was trained on.\n",
            "WARNING:root:The consistency in the result may not be guaranteed.\n",
            "WARNING:root:Package:azureml-automl-core, training version:1.21.0, current version:1.20.0\n",
            "Package:azureml-automl-runtime, training version:1.21.0, current version:1.20.0\n",
            "Package:azureml-core, training version:1.21.0.post1, current version:1.20.0\n",
            "Package:azureml-dataprep, training version:2.8.2, current version:2.7.3\n",
            "Package:azureml-dataprep-native, training version:28.0.0, current version:27.0.0\n",
            "Package:azureml-dataprep-rslex, training version:1.6.0, current version:1.5.0\n",
            "Package:azureml-dataset-runtime, training version:1.21.0, current version:1.20.0\n",
            "Package:azureml-defaults, training version:1.21.0, current version:1.20.0\n",
            "Package:azureml-interpret, training version:1.21.0, current version:1.20.0\n",
            "Package:azureml-pipeline-core, training version:1.21.0, current version:1.20.0\n",
            "Package:azureml-telemetry, training version:1.21.0, current version:1.20.0\n",
            "Package:azureml-train-automl-client, training version:1.21.0, current version:1.20.0\n",
            "Package:azureml-train-automl-runtime, training version:1.21.0, current version:1.20.0\n",
            "WARNING:root:Please ensure the version of your local conda dependencies match the version on which your model was trained in order to properly retrieve your model.\n"
          ]
        },
        {
          "output_type": "stream",
          "name": "stdout",
          "text": [
            "Best AutoML model name: AutoMLa5282e99622\n",
            "\n",
            "Best AutoML model run: Run(Experiment: wine,\n",
            "Id: AutoML_a5282e99-6962-4b8a-9682-aa3257bcac67_22,\n",
            "Type: azureml.scriptrun,\n",
            "Status: Completed)\n",
            "\n",
            "Best AutoML model specification: Pipeline(memory=None,\n",
            "         steps=[('datatransformer',\n",
            "                 DataTransformer(enable_dnn=None, enable_feature_sweeping=None,\n",
            "                                 feature_sweeping_config=None,\n",
            "                                 feature_sweeping_timeout=None,\n",
            "                                 featurization_config=None, force_text_dnn=None,\n",
            "                                 is_cross_validation=None,\n",
            "                                 is_onnx_compatible=None, logger=None,\n",
            "                                 observer=None, task=None, working_dir=None)),\n",
            "                ('MaxAbsScaler', MaxAbsScaler(copy...\n",
            "                 ExtraTreesClassifier(bootstrap=True, ccp_alpha=0.0,\n",
            "                                      class_weight='balanced', criterion='gini',\n",
            "                                      max_depth=None, max_features='log2',\n",
            "                                      max_leaf_nodes=None, max_samples=None,\n",
            "                                      min_impurity_decrease=0.0,\n",
            "                                      min_impurity_split=None,\n",
            "                                      min_samples_leaf=0.01,\n",
            "                                      min_samples_split=0.01,\n",
            "                                      min_weight_fraction_leaf=0.0,\n",
            "                                      n_estimators=50, n_jobs=-1,\n",
            "                                      oob_score=True, random_state=None,\n",
            "                                      verbose=0, warm_start=False))],\n",
            "         verbose=False)\n"
          ]
        }
      ],
      "execution_count": 21,
      "metadata": {
        "collapsed": false,
        "gather": {
          "logged": 1612484677978
        },
        "jupyter": {
          "outputs_hidden": false,
          "source_hidden": false
        },
        "nteract": {
          "transient": {
            "deleting": false
          }
        }
      }
    },
    {
      "cell_type": "code",
      "source": [
        "# Register and save the best model\n",
        "automl_model_registered = remote_run.register_model(model_name='automl_model')\n",
        "\n",
        "automl_model_registered.download(target_dir=\"outputs_automl\", exist_ok=True)"
      ],
      "outputs": [
        {
          "output_type": "execute_result",
          "execution_count": 22,
          "data": {
            "text/plain": "'outputs_automl/model.pkl'"
          },
          "metadata": {}
        }
      ],
      "execution_count": 22,
      "metadata": {
        "collapsed": false,
        "gather": {
          "logged": 1612484703396
        },
        "jupyter": {
          "outputs_hidden": false,
          "source_hidden": false
        },
        "nteract": {
          "transient": {
            "deleting": false
          }
        }
      }
    },
    {
      "cell_type": "markdown",
      "source": [
        "## Model Deployment\n",
        "\n",
        "The AutoML model showed better performance and therefore is it deployed as a web service. "
      ],
      "metadata": {}
    },
    {
      "cell_type": "code",
      "source": [
        "# source: https://docs.microsoft.com/en-us/azure/machine-learning/tutorial-deploy-models-with-aml?view=azure-ml-py\n",
        "aciconfig = AciWebservice.deploy_configuration(cpu_cores=1, \n",
        "                                               memory_gb=4, \n",
        "                                               enable_app_insights=True,\n",
        "                                               description='Predict Wine Name')\n",
        "\n",
        "model = Model(ws, 'automl_model')\n",
        "\n",
        "env_deploy = Environment.get(workspace=ws, name='AzureML-AutoML')\n",
        "\n",
        "inference_config = InferenceConfig(entry_script=\"score_AUTO.py\", environment=env_deploy)\n",
        "\n",
        "service = Model.deploy(workspace=ws, \n",
        "                       name='automl', \n",
        "                       models=[model], \n",
        "                       inference_config=inference_config, \n",
        "                       deployment_config=aciconfig)"
      ],
      "outputs": [],
      "execution_count": 33,
      "metadata": {
        "gather": {
          "logged": 1612488312599
        }
      }
    },
    {
      "cell_type": "code",
      "source": [
        "service.wait_for_deployment(show_output=True)"
      ],
      "outputs": [
        {
          "output_type": "stream",
          "name": "stdout",
          "text": [
            "Tips: You can try get_logs(): https://aka.ms/debugimage#dockerlog or local deployment: https://aka.ms/debugimage#debug-locally to debug if deployment takes longer than 10 minutes.\n",
            "Running........................................\n",
            "Succeeded\n",
            "ACI service creation operation finished, operation \"Succeeded\"\n"
          ]
        }
      ],
      "execution_count": 34,
      "metadata": {
        "gather": {
          "logged": 1612488525323
        }
      }
    },
    {
      "cell_type": "code",
      "source": [
        "print(service.scoring_uri)"
      ],
      "outputs": [
        {
          "output_type": "stream",
          "name": "stdout",
          "text": [
            "http://1344b204-d393-48e9-a948-28f3d28b8a30.southcentralus.azurecontainer.io/score\n"
          ]
        }
      ],
      "execution_count": 44,
      "metadata": {
        "gather": {
          "logged": 1612488929188
        }
      }
    },
    {
      "cell_type": "markdown",
      "source": [
        "The deployed endpoint is tested by sending input data to it."
      ],
      "metadata": {
        "gather": {
          "logged": 1598431657736
        },
        "jupyter": {
          "outputs_hidden": false,
          "source_hidden": false
        },
        "nteract": {
          "transient": {
            "deleting": false
          }
        }
      }
    },
    {
      "cell_type": "code",
      "source": [
        "# scoring endpoint\n",
        "scoring_uri = service.scoring_uri\n",
        "\n",
        "data = {\"data\":\n",
        "        [\n",
        "            {\n",
        "               \n",
        "                \"alcohol\": 14.23,\n",
        "                \"malicAcid\": 1.71,\n",
        "                \"ash\":2.43,\n",
        "                \"ashalcalinity\": 15.6,\n",
        "                \"magnesium\": 127,\n",
        "                \"totalPhenols\": 2.80,\n",
        "                \"flavanoids\": 3.06,\n",
        "                \"nonFlavanoidPhenols\": 0.28,\n",
        "                \"proanthocyanins\": 2.29,\n",
        "                \"colorIntensity\":5.64,\n",
        "                \"hue\":1.04,\n",
        "                \"od280_od315\":3.92,\n",
        "                \"proline\":1065\n",
        "\n",
        "\n",
        "            },\n",
        "            {\n",
        "               \n",
        "                \"alcohol\": 13.16,\n",
        "                \"malicAcid\": 2.36,\n",
        "                \"ash\":2.67,\n",
        "                \"ashalcalinity\": 18.6,\n",
        "                \"magnesium\": 101,\n",
        "                \"totalPhenols\": 2.80,\n",
        "                \"flavanoids\": 3.24,\n",
        "                \"nonFlavanoidPhenols\": 0.30,\n",
        "                \"proanthocyanins\": 2.81,\n",
        "                \"colorIntensity\":5.68,\n",
        "                \"hue\":1.03,\n",
        "                \"od280_od315\":3.17,\n",
        "                \"proline\":1185\n",
        "            }\n",
        "        ]\n",
        "    }\n",
        "# Convert to JSON string\n",
        "input_data = json.dumps(data)\n",
        "\n",
        "# Set the content type\n",
        "headers = {'Content-Type': 'application/json'}\n",
        "\n",
        "# Make the request and display the response\n",
        "resp = requests.post(scoring_uri, input_data, headers=headers)\n",
        "print(resp.json())"
      ],
      "outputs": [
        {
          "output_type": "stream",
          "name": "stdout",
          "text": [
            "[1, 1]\n"
          ]
        }
      ],
      "execution_count": 49,
      "metadata": {
        "gather": {
          "logged": 1612489409458
        }
      }
    },
    {
      "cell_type": "markdown",
      "source": [
        "Access the logs of the web service and clean up resources (web service and compute cluster)."
      ],
      "metadata": {
        "gather": {
          "logged": 1598432765711
        },
        "jupyter": {
          "outputs_hidden": false,
          "source_hidden": false
        },
        "nteract": {
          "transient": {
            "deleting": false
          }
        }
      }
    },
    {
      "cell_type": "code",
      "source": [
        "print(service.get_logs())"
      ],
      "outputs": [
        {
          "output_type": "stream",
          "name": "stdout",
          "text": [
            "2021-02-05T01:28:05,745807000+00:00 - gunicorn/run \n",
            "2021-02-05T01:28:05,757940400+00:00 - iot-server/run \n",
            "2021-02-05T01:28:05,792456900+00:00 - rsyslog/run \n",
            "2021-02-05T01:28:05,793450700+00:00 - nginx/run \n",
            "/usr/sbin/nginx: /azureml-envs/azureml_7ade26eb614f97df8030bc480da59236/lib/libcrypto.so.1.0.0: no version information available (required by /usr/sbin/nginx)\n",
            "/usr/sbin/nginx: /azureml-envs/azureml_7ade26eb614f97df8030bc480da59236/lib/libcrypto.so.1.0.0: no version information available (required by /usr/sbin/nginx)\n",
            "/usr/sbin/nginx: /azureml-envs/azureml_7ade26eb614f97df8030bc480da59236/lib/libssl.so.1.0.0: no version information available (required by /usr/sbin/nginx)\n",
            "/usr/sbin/nginx: /azureml-envs/azureml_7ade26eb614f97df8030bc480da59236/lib/libssl.so.1.0.0: no version information available (required by /usr/sbin/nginx)\n",
            "/usr/sbin/nginx: /azureml-envs/azureml_7ade26eb614f97df8030bc480da59236/lib/libssl.so.1.0.0: no version information available (required by /usr/sbin/nginx)\n",
            "rsyslogd: /azureml-envs/azureml_7ade26eb614f97df8030bc480da59236/lib/libuuid.so.1: no version information available (required by rsyslogd)\n",
            "EdgeHubConnectionString and IOTEDGE_IOTHUBHOSTNAME are not set. Exiting...\n",
            "2021-02-05T01:28:07,624464000+00:00 - iot-server/finish 1 0\n",
            "2021-02-05T01:28:07,632330000+00:00 - Exit code 1 is normal. Not restarting iot-server.\n",
            "Starting gunicorn 19.9.0\n",
            "Listening at: http://127.0.0.1:31311 (58)\n",
            "Using worker: sync\n",
            "worker timeout is set to 300\n",
            "Booting worker with pid: 96\n",
            "SPARK_HOME not set. Skipping PySpark Initialization.\n",
            "Generating new fontManager, this may take some time...\n",
            "Initializing logger\n",
            "2021-02-05 01:28:19,285 | root | INFO | Starting up app insights client\n",
            "2021-02-05 01:28:19,286 | root | INFO | Starting up request id generator\n",
            "2021-02-05 01:28:19,286 | root | INFO | Starting up app insight hooks\n",
            "2021-02-05 01:28:19,286 | root | INFO | Invoking user's init function\n",
            "/azureml-envs/azureml_7ade26eb614f97df8030bc480da59236/lib/python3.6/site-packages/sklearn/externals/joblib/__init__.py:15: FutureWarning: sklearn.externals.joblib is deprecated in 0.21 and will be removed in 0.23. Please import this functionality directly from joblib, which can be installed with: pip install joblib. If this warning is raised when loading pickled models, you may need to re-serialize those models with scikit-learn 0.21+.\n",
            "  warnings.warn(msg, category=FutureWarning)\n",
            "2021-02-05 01:28:25,427 | root | INFO | Users's init has completed successfully\n",
            "2021-02-05 01:28:25,449 | root | INFO | Skipping middleware: dbg_model_info as it's not enabled.\n",
            "2021-02-05 01:28:25,449 | root | INFO | Skipping middleware: dbg_resource_usage as it's not enabled.\n",
            "2021-02-05 01:28:25,450 | root | INFO | Scoring timeout is found from os.environ: 60000 ms\n",
            "2021-02-05 01:28:43,561 | root | INFO | Swagger file not present\n",
            "2021-02-05 01:28:43,561 | root | INFO | 404\n",
            "127.0.0.1 - - [05/Feb/2021:01:28:43 +0000] \"GET /swagger.json HTTP/1.0\" 404 19 \"-\" \"Go-http-client/1.1\"\n",
            "2021-02-05 01:28:45,051 | root | INFO | Swagger file not present\n",
            "2021-02-05 01:28:45,051 | root | INFO | 404\n",
            "127.0.0.1 - - [05/Feb/2021:01:28:45 +0000] \"GET /swagger.json HTTP/1.0\" 404 19 \"-\" \"Go-http-client/1.1\"\n",
            "2021-02-05 01:29:10,240 | root | INFO | Validation Request Content-Type\n",
            "2021-02-05 01:29:10,245 | root | INFO | Scoring Timer is set to 60.0 seconds\n",
            "2021-02-05 01:29:10,265 | root | INFO | 200\n",
            "127.0.0.1 - - [05/Feb/2021:01:29:10 +0000] \"POST /score HTTP/1.0\" 200 898 \"-\" \"python-requests/2.25.1\"\n",
            "2021-02-05 01:30:20,602 | root | INFO | Validation Request Content-Type\n",
            "2021-02-05 01:30:20,604 | root | INFO | Scoring Timer is set to 60.0 seconds\n",
            "2021-02-05 01:30:20,618 | root | INFO | 200\n",
            "127.0.0.1 - - [05/Feb/2021:01:30:20 +0000] \"POST /score HTTP/1.0\" 200 898 \"-\" \"python-requests/2.25.1\"\n",
            "2021-02-05 01:31:13,706 | root | INFO | Validation Request Content-Type\n",
            "2021-02-05 01:31:13,707 | root | INFO | Scoring Timer is set to 60.0 seconds\n",
            "2021-02-05 01:31:13,726 | root | INFO | 200\n",
            "127.0.0.1 - - [05/Feb/2021:01:31:13 +0000] \"POST /score HTTP/1.0\" 200 898 \"-\" \"python-requests/2.25.1\"\n",
            "2021-02-05 01:32:10,905 | root | INFO | Validation Request Content-Type\n",
            "2021-02-05 01:32:10,905 | root | INFO | Scoring Timer is set to 60.0 seconds\n",
            "2021-02-05 01:32:10,919 | root | INFO | 200\n",
            "127.0.0.1 - - [05/Feb/2021:01:32:10 +0000] \"POST /score HTTP/1.0\" 200 898 \"-\" \"python-requests/2.25.1\"\n",
            "2021-02-05 01:32:49,540 | root | INFO | Validation Request Content-Type\n",
            "2021-02-05 01:32:49,541 | root | INFO | Scoring Timer is set to 60.0 seconds\n",
            "2021-02-05 01:32:49,558 | root | INFO | 200\n",
            "127.0.0.1 - - [05/Feb/2021:01:32:49 +0000] \"POST /score HTTP/1.0\" 200 898 \"-\" \"python-requests/2.25.1\"\n",
            "2021-02-05 01:33:10,424 | root | INFO | Swagger file not present\n",
            "2021-02-05 01:33:10,424 | root | INFO | 404\n",
            "127.0.0.1 - - [05/Feb/2021:01:33:10 +0000] \"GET /swagger.json HTTP/1.0\" 404 19 \"-\" \"Go-http-client/1.1\"\n",
            "2021-02-05 01:33:42,819 | root | INFO | Validation Request Content-Type\n",
            "2021-02-05 01:33:42,819 | root | INFO | Scoring Timer is set to 60.0 seconds\n",
            "2021-02-05 01:33:42,826 | root | INFO | 200\n",
            "127.0.0.1 - - [05/Feb/2021:01:33:42 +0000] \"POST /score HTTP/1.0\" 200 898 \"-\" \"python-requests/2.25.1\"\n",
            "2021-02-05 01:34:12,521 | root | INFO | Validation Request Content-Type\n",
            "2021-02-05 01:34:12,522 | root | INFO | Scoring Timer is set to 60.0 seconds\n",
            "2021-02-05 01:34:12,715 | root | INFO | 200\n",
            "127.0.0.1 - - [05/Feb/2021:01:34:12 +0000] \"POST /score HTTP/1.0\" 200 6 \"-\" \"python-requests/2.25.1\"\n",
            "2021-02-05 01:35:53,799 | root | INFO | Validation Request Content-Type\n",
            "2021-02-05 01:35:53,800 | root | INFO | Scoring Timer is set to 60.0 seconds\n",
            "2021-02-05 01:35:54,001 | root | INFO | 200\n",
            "127.0.0.1 - - [05/Feb/2021:01:35:53 +0000] \"POST /score HTTP/1.0\" 200 6 \"-\" \"python-requests/2.25.1\"\n",
            "2021-02-05 01:42:50,016 | root | INFO | Validation Request Content-Type\n",
            "2021-02-05 01:42:50,018 | root | INFO | Scoring Timer is set to 60.0 seconds\n",
            "2021-02-05 01:42:50,210 | root | INFO | 200\n",
            "127.0.0.1 - - [05/Feb/2021:01:42:50 +0000] \"POST /score HTTP/1.0\" 200 6 \"-\" \"python-requests/2.25.1\"\n",
            "2021-02-05 01:43:28,497 | root | INFO | Validation Request Content-Type\n",
            "2021-02-05 01:43:28,498 | root | INFO | Scoring Timer is set to 60.0 seconds\n",
            "2021-02-05 01:43:28,689 | root | INFO | 200\n",
            "127.0.0.1 - - [05/Feb/2021:01:43:28 +0000] \"POST /score HTTP/1.0\" 200 6 \"-\" \"python-requests/2.25.1\"\n",
            "\n"
          ]
        }
      ],
      "execution_count": 50,
      "metadata": {
        "gather": {
          "logged": 1612489413120
        }
      }
    },
    {
      "cell_type": "code",
      "source": [
        "service.update(enable_app_insights=True)"
      ],
      "outputs": [],
      "execution_count": 52,
      "metadata": {
        "collapsed": true,
        "jupyter": {
          "source_hidden": false,
          "outputs_hidden": false
        },
        "nteract": {
          "transient": {
            "deleting": false
          }
        },
        "gather": {
          "logged": 1612489529637
        }
      }
    },
    {
      "cell_type": "code",
      "source": [
        "\r\n",
        "onx = onnxmltools.convert.convert_xgboost(xgb, initial_types=initial_type)"
      ],
      "outputs": [],
      "execution_count": null,
      "metadata": {
        "collapsed": true,
        "jupyter": {
          "source_hidden": false,
          "outputs_hidden": false
        },
        "nteract": {
          "transient": {
            "deleting": false
          }
        }
      }
    },
    {
      "cell_type": "code",
      "source": [
        "# delete service\n",
        "service.delete()"
      ],
      "outputs": [],
      "execution_count": null,
      "metadata": {}
    },
    {
      "cell_type": "code",
      "source": [
        "# delete compute cluster\n",
        "cpu_cluster.delete()"
      ],
      "outputs": [],
      "execution_count": null,
      "metadata": {}
    },
    {
      "cell_type": "code",
      "source": [],
      "outputs": [],
      "execution_count": null,
      "metadata": {
        "collapsed": true,
        "jupyter": {
          "source_hidden": false,
          "outputs_hidden": false
        },
        "nteract": {
          "transient": {
            "deleting": false
          }
        }
      }
    }
  ],
  "metadata": {
    "kernel_info": {
      "name": "python3"
    },
    "kernelspec": {
      "name": "python3",
      "language": "python",
      "display_name": "Python 3"
    },
    "language_info": {
      "name": "python",
      "version": "3.6.9",
      "mimetype": "text/x-python",
      "codemirror_mode": {
        "name": "ipython",
        "version": 3
      },
      "pygments_lexer": "ipython3",
      "nbconvert_exporter": "python",
      "file_extension": ".py"
    },
    "nteract": {
      "version": "nteract-front-end@1.0.0"
    }
  },
  "nbformat": 4,
  "nbformat_minor": 4
}